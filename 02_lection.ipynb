{
 "cells": [
  {
   "cell_type": "code",
   "execution_count": 1,
   "id": "24a2335b",
   "metadata": {
    "cellId": "omjvvoonebgux03kuywkm"
   },
   "outputs": [
    {
     "name": "stdout",
     "output_type": "stream",
     "text": [
      "1.13.1\n"
     ]
    }
   ],
   "source": [
    "import torch\n",
    "print(torch.__version__)"
   ]
  },
  {
   "cell_type": "markdown",
   "id": "f12f9f0c",
   "metadata": {},
   "source": [
    "## Вектора и матрицы в PyTorch"
   ]
  },
  {
   "cell_type": "markdown",
   "id": "268bc1d3",
   "metadata": {
    "cellId": "6wcow5i13v3uyivhicxqe",
    "execution_id": "618bbb2f-d2a2-4afd-8843-0cca4beb2be0"
   },
   "source": [
    "### 1. Что такое тензоры"
   ]
  },
  {
   "cell_type": "code",
   "execution_count": 2,
   "id": "31117c11",
   "metadata": {
    "cellId": "03hlw7tg0o9on5odel0t8l",
    "tags": []
   },
   "outputs": [],
   "source": [
    "vector = [1., 0.5, 3.7, -0.5]  # Создаём массив\n",
    "matrix = [[1, 2], [3, 4]]  # И массив массивов"
   ]
  },
  {
   "cell_type": "code",
   "execution_count": 3,
   "id": "f2d4751f",
   "metadata": {
    "cellId": "otb90019hhvh1o2opdbki"
   },
   "outputs": [],
   "source": [
    "vector_tensor = torch.tensor(vector)  # Превращаем массив в одномерный тензор (вектор)\n",
    "matrix_tensor = torch.tensor(matrix)  # Превращаем массив массивов в двумерный тензор (матрицу)"
   ]
  },
  {
   "cell_type": "code",
   "execution_count": 4,
   "id": "96bc186e",
   "metadata": {
    "cellId": "39kp9n59bb572wzn15e5m6"
   },
   "outputs": [
    {
     "name": "stdout",
     "output_type": "stream",
     "text": [
      "Вектор:\n",
      "tensor([ 1.0000,  0.5000,  3.7000, -0.5000])\n",
      "\n",
      "Размеры вектора                --> torch.Size([4])\n",
      "\n",
      "Количество размерностей        --> 1\n",
      "\n",
      "Суммарное количество элементов --> 4\n",
      "\n",
      "Какого типа элементы вектора   --> torch.float32\n"
     ]
    }
   ],
   "source": [
    "print(\n",
    "    f\"Вектор:\\n{vector_tensor}\",\n",
    "    f\"Размеры вектора                --> {vector_tensor.shape}\",\n",
    "    f\"Количество размерностей        --> {vector_tensor.dim()}\",\n",
    "    f\"Суммарное количество элементов --> {vector_tensor.numel()}\",\n",
    "    f\"Какого типа элементы вектора   --> {vector_tensor.dtype}\",\n",
    "    sep=\"\\n\\n\",\n",
    ")"
   ]
  },
  {
   "cell_type": "code",
   "execution_count": 5,
   "id": "5c0c6422",
   "metadata": {
    "cellId": "fjdw7a2i6srf1ir30q286"
   },
   "outputs": [
    {
     "name": "stdout",
     "output_type": "stream",
     "text": [
      "Матрица:\n",
      "tensor([[1, 2],\n",
      "        [3, 4]])\n",
      "\n",
      "Размеры матрицы                --> torch.Size([2, 2])\n",
      "\n",
      "Количество размерностей        --> 2\n",
      "\n",
      "Суммарное количество элементов --> 4\n",
      "\n",
      "Какого типа элементы матрицы   --> torch.int64\n"
     ]
    }
   ],
   "source": [
    "print(\n",
    "    f\"Матрица:\\n{matrix_tensor}\",\n",
    "    f\"Размеры матрицы                --> {matrix_tensor.shape}\",\n",
    "    f\"Количество размерностей        --> {matrix_tensor.dim()}\",\n",
    "    f\"Суммарное количество элементов --> {matrix_tensor.numel()}\",\n",
    "    f\"Какого типа элементы матрицы   --> {matrix_tensor.dtype}\",\n",
    "    sep=\"\\n\\n\",\n",
    ")"
   ]
  },
  {
   "cell_type": "code",
   "execution_count": 7,
   "id": "0fdf68aa",
   "metadata": {
    "cellId": "mto01dqgufh4y5d97w34r"
   },
   "outputs": [
    {
     "data": {
      "text/plain": [
       "tensor(0.5000)"
      ]
     },
     "execution_count": 7,
     "metadata": {},
     "output_type": "execute_result"
    }
   ],
   "source": [
    "vector_tensor[1]  # Поддерживает индексное обращение"
   ]
  },
  {
   "cell_type": "code",
   "execution_count": 8,
   "id": "6797b3db",
   "metadata": {
    "cellId": "je1k44m556c3mo20157f8o"
   },
   "outputs": [
    {
     "data": {
      "text/plain": [
       "tensor([1.0000, 0.5000, 3.7000])"
      ]
     },
     "execution_count": 8,
     "metadata": {},
     "output_type": "execute_result"
    }
   ],
   "source": [
    "vector_tensor[:3]  # Поддерживает срезы"
   ]
  },
  {
   "cell_type": "code",
   "execution_count": 6,
   "id": "f30c218a",
   "metadata": {
    "cellId": "87t03y8gwam56ccy5wqja6"
   },
   "outputs": [
    {
     "data": {
      "text/plain": [
       "2"
      ]
     },
     "execution_count": 6,
     "metadata": {},
     "output_type": "execute_result"
    }
   ],
   "source": [
    "matrix[0][1]  # Так мы обращаемся ко второму элементу первой строки во вложенных массивах"
   ]
  },
  {
   "cell_type": "code",
   "execution_count": 7,
   "id": "61b1409c",
   "metadata": {
    "cellId": "pilfwfcn06e0dq6lmssc4s6"
   },
   "outputs": [
    {
     "data": {
      "text/plain": [
       "tensor(2)"
      ]
     },
     "execution_count": 7,
     "metadata": {},
     "output_type": "execute_result"
    }
   ],
   "source": [
    "matrix_tensor[0, 1]  # Однако к элементам тензора можно обращаться проще"
   ]
  },
  {
   "cell_type": "code",
   "execution_count": 11,
   "id": "5748b11f",
   "metadata": {
    "cellId": "e2zebl4wikhc8qxqvfbfw6"
   },
   "outputs": [
    {
     "data": {
      "text/plain": [
       "tensor([1, 3])"
      ]
     },
     "execution_count": 11,
     "metadata": {},
     "output_type": "execute_result"
    }
   ],
   "source": [
    "matrix_tensor[:, 0]  # Срезы так же поддерживаются, к примеру, так можно выделить первую колонку из матрицы"
   ]
  },
  {
   "cell_type": "code",
   "execution_count": 12,
   "id": "18523d22",
   "metadata": {
    "cellId": "h9a08uo0eo9x8wymo8zunj"
   },
   "outputs": [
    {
     "data": {
      "text/plain": [
       "tensor([1, 2, 3, 4])"
      ]
     },
     "execution_count": 12,
     "metadata": {},
     "output_type": "execute_result"
    }
   ],
   "source": [
    "matrix_tensor[[0, 0, 1, 1], [0, 1, 0, 1]]  # Можно передавать список элементов для каждой из размерностей"
   ]
  },
  {
   "cell_type": "code",
   "execution_count": 8,
   "id": "3cc8ebc6",
   "metadata": {
    "cellId": "53nimfuhobkmuw4hddcsjs"
   },
   "outputs": [
    {
     "data": {
      "text/plain": [
       "tensor([[3, 4],\n",
       "        [3, 4],\n",
       "        [1, 2],\n",
       "        [1, 2],\n",
       "        [3, 4]])"
      ]
     },
     "execution_count": 8,
     "metadata": {},
     "output_type": "execute_result"
    }
   ],
   "source": [
    "matrix_tensor[[1, 1, 0, 0, 1], :]  # Дублирование не запрещено"
   ]
  },
  {
   "cell_type": "code",
   "execution_count": 14,
   "id": "6c10b3bf",
   "metadata": {
    "cellId": "lymc16imkbw7bmwcig27"
   },
   "outputs": [
    {
     "name": "stdout",
     "output_type": "stream",
     "text": [
      "tensor([0.5000, 3.7000])\n"
     ]
    }
   ],
   "source": [
    "# Также можно использовать булевы маски для выбора элементов\n",
    "bool_mask = torch.tensor([False, True, True, False])\n",
    "\n",
    "print(\n",
    "    vector_tensor[bool_mask],  # Выбираем 2 и 3 элементы\n",
    "    sep=\"\\n\\n\",\n",
    ")"
   ]
  },
  {
   "cell_type": "code",
   "execution_count": 15,
   "id": "9c92847d",
   "metadata": {
    "cellId": "m063sdysbpb1iuf0k3z2dk"
   },
   "outputs": [
    {
     "name": "stdout",
     "output_type": "stream",
     "text": [
      "tensor([1, 4])\n",
      "\n",
      "tensor([[3, 4]])\n",
      "\n",
      "tensor([[2],\n",
      "        [4]])\n"
     ]
    }
   ],
   "source": [
    "# Работая с матрицами или многомерными тензорами маску можно передавать как с bool значением на каждый\n",
    "#  элемент тензора, так и на только отдельные размерности\n",
    "bool_mask_1 = torch.tensor([[True, False], [False, True]])\n",
    "bool_mask_2 = torch.tensor([False, True])\n",
    "\n",
    "print(\n",
    "    matrix_tensor[bool_mask_1],  # Выбираем элементы (1, 1) и (2, 2)\n",
    "    matrix_tensor[bool_mask_2, :],  # Выбираем только второй столбец\n",
    "    matrix_tensor[:, bool_mask_2],  # Выбираем только вторую строчку\n",
    "    sep=\"\\n\\n\",\n",
    ")"
   ]
  },
  {
   "cell_type": "code",
   "execution_count": 10,
   "id": "160b13bf-faaf-4925-9759-6b3904fccb6e",
   "metadata": {},
   "outputs": [
    {
     "data": {
      "text/plain": [
       "tensor([2, 4])"
      ]
     },
     "execution_count": 10,
     "metadata": {},
     "output_type": "execute_result"
    }
   ],
   "source": [
    "##\n",
    "matrix_tensor[matrix_tensor % 2 == 0]"
   ]
  },
  {
   "cell_type": "code",
   "execution_count": null,
   "id": "621021a7-ebe7-420e-aa29-5dba3d94ed48",
   "metadata": {},
   "outputs": [],
   "source": []
  },
  {
   "cell_type": "markdown",
   "id": "204a1be9",
   "metadata": {
    "cellId": "5o10ljzwlza066yco9gx402",
    "execution_id": "88df9f6f-331e-4891-b3ec-790677d7229d"
   },
   "source": [
    "### 2. Как создавать тензоры"
   ]
  },
  {
   "cell_type": "code",
   "execution_count": 16,
   "id": "839e5197",
   "metadata": {
    "cellId": "bnmqd7gqrkwcz591jouygu"
   },
   "outputs": [
    {
     "name": "stderr",
     "output_type": "stream",
     "text": [
      "/var/folders/dn/5x6w91b95lx6tf30sz6djy000000gn/T/ipykernel_3979/3564312110.py:2: DeprecationWarning: an integer is required (got type float).  Implicit conversion to integers using __int__ is deprecated, and may be removed in a future version of Python.\n",
      "  torch.tensor(\n"
     ]
    },
    {
     "data": {
      "text/plain": [
       "tensor([ 0,  1, -2,  3], dtype=torch.int32)"
      ]
     },
     "execution_count": 16,
     "metadata": {},
     "output_type": "execute_result"
    }
   ],
   "source": [
    "# Базовый конструктор\n",
    "torch.tensor(\n",
    "    # Передаётся объект, который нужно превратить в тензор\n",
    "    [0., 1., -2., 3.],\n",
    "    # Можно вручную указать какого типа должны быть элементы тензора\n",
    "    #  (есть аналоги для основных типов Python и не только)\n",
    "    dtype=torch.int,\n",
    ")"
   ]
  },
  {
   "cell_type": "code",
   "execution_count": 17,
   "id": "8516edc5",
   "metadata": {
    "cellId": "tb65v85m1nptg92u0c93b"
   },
   "outputs": [
    {
     "data": {
      "text/plain": [
       "tensor([[0., 0., 0.],\n",
       "        [0., 0., 0.]])"
      ]
     },
     "execution_count": 17,
     "metadata": {},
     "output_type": "execute_result"
    }
   ],
   "source": [
    "# Создать тензор, состоящий из нулей с заданными размерами\n",
    "torch.zeros(2, 3, dtype=torch.float)"
   ]
  },
  {
   "cell_type": "code",
   "execution_count": 18,
   "id": "1c756634",
   "metadata": {
    "cellId": "yr71z1lbqtny0ayfc9bt"
   },
   "outputs": [
    {
     "data": {
      "text/plain": [
       "tensor([[1., 1., 1.],\n",
       "        [1., 1., 1.]], dtype=torch.float64)"
      ]
     },
     "execution_count": 18,
     "metadata": {},
     "output_type": "execute_result"
    }
   ],
   "source": [
    "# Создать тензор, состоящий из единиц с заданными размерами\n",
    "torch.ones(2, 3, dtype=torch.double)"
   ]
  },
  {
   "cell_type": "code",
   "execution_count": 19,
   "id": "d04642cf",
   "metadata": {
    "cellId": "885zsb7rk5awwtd4lbrduo"
   },
   "outputs": [
    {
     "data": {
      "text/plain": [
       "tensor([-1,  1,  3,  5,  7], dtype=torch.int8)"
      ]
     },
     "execution_count": 19,
     "metadata": {},
     "output_type": "execute_result"
    }
   ],
   "source": [
    "# Создать вектор с элементами от start до end с шагом step\n",
    "#  (похоже на функцию range(), но может работать с нецелочисленными значениями и возвращает тензор)\n",
    "torch.arange(-1, 8, 2, dtype=torch.int8)"
   ]
  },
  {
   "cell_type": "code",
   "execution_count": 19,
   "id": "2cde53a8-f4c1-4990-9982-fef0fa26335e",
   "metadata": {},
   "outputs": [
    {
     "data": {
      "text/plain": [
       "tensor([-1.0000, -0.2000,  0.6000,  1.4000,  2.2000,  3.0000,  3.8000,  4.6000,\n",
       "         5.4000,  6.2000,  7.0000,  7.8000])"
      ]
     },
     "execution_count": 19,
     "metadata": {},
     "output_type": "execute_result"
    }
   ],
   "source": [
    "##\n",
    "torch.arange(-1, 8.5, 0.8)"
   ]
  },
  {
   "cell_type": "code",
   "execution_count": 20,
   "id": "2caa0097",
   "metadata": {
    "cellId": "ja9ksf50rys6lzz1h6gb"
   },
   "outputs": [
    {
     "data": {
      "text/plain": [
       "tensor([ 0.0000,  2.5000,  5.0000,  7.5000, 10.0000], dtype=torch.float64)"
      ]
     },
     "execution_count": 20,
     "metadata": {},
     "output_type": "execute_result"
    }
   ],
   "source": [
    "# Создать вектор с элементами от start до end равномерно в количестве steps\n",
    "torch.linspace(0, 10, 5, dtype=torch.float64)"
   ]
  },
  {
   "cell_type": "code",
   "execution_count": 21,
   "id": "69c93725",
   "metadata": {
    "cellId": "pdm4ky7ezq9gs4vtefycr"
   },
   "outputs": [
    {
     "data": {
      "text/plain": [
       "tensor([[-4, -2,  2],\n",
       "        [ 3, -2, -2]])"
      ]
     },
     "execution_count": 21,
     "metadata": {},
     "output_type": "execute_result"
    }
   ],
   "source": [
    "# Создать тензор со случайными int значениями из полуоткрытого интервала [low, high) \n",
    "torch.randint(\n",
    "    -5, # low - минимальное значение\n",
    "    5,  # high - 1 + максимальное значение\n",
    "    (2, 3),  # size - размерности тензора\n",
    ")"
   ]
  },
  {
   "cell_type": "code",
   "execution_count": 28,
   "id": "be69be8a-d4d8-42ba-a8f6-763908c84d88",
   "metadata": {},
   "outputs": [
    {
     "data": {
      "text/plain": [
       "tensor([[ 2,  1,  4,  1],\n",
       "        [-1, -4,  1,  0],\n",
       "        [-5, -3, -2,  2]])"
      ]
     },
     "execution_count": 28,
     "metadata": {},
     "output_type": "execute_result"
    }
   ],
   "source": [
    "##\n",
    "torch.randint(-5, 6, (3, 4))"
   ]
  },
  {
   "cell_type": "code",
   "execution_count": 22,
   "id": "424b8bd7",
   "metadata": {
    "cellId": "yu3xbss4pyr7f6e3d6lwv"
   },
   "outputs": [
    {
     "data": {
      "text/plain": [
       "tensor([[0.2532, 0.4905, 0.2012]])"
      ]
     },
     "execution_count": 22,
     "metadata": {},
     "output_type": "execute_result"
    }
   ],
   "source": [
    "# Создать тензор со случайными значениями из равномерного распределения на полуинтервале [0,1)\n",
    "torch.rand(1, 3, dtype=torch.float32)"
   ]
  },
  {
   "cell_type": "code",
   "execution_count": 23,
   "id": "e9b020cb",
   "metadata": {
    "cellId": "jg8lsn5mc6z18sewucqm",
    "tags": []
   },
   "outputs": [
    {
     "data": {
      "text/plain": [
       "tensor([[ 0.7539, -0.7134,  0.2651],\n",
       "        [-0.6729, -0.1804,  0.5723]], dtype=torch.float16)"
      ]
     },
     "execution_count": 23,
     "metadata": {},
     "output_type": "execute_result"
    }
   ],
   "source": [
    "# Создать тензор со случайными значениями из стандартного\n",
    "#  нормального распредения N(0 - среднее, 1 - дисперсия)\n",
    "torch.randn(2, 3, dtype=torch.float16)"
   ]
  },
  {
   "cell_type": "code",
   "execution_count": 24,
   "id": "2d1f7558",
   "metadata": {
    "cellId": "b8rk05u0xjvmomffvw2jx"
   },
   "outputs": [
    {
     "name": "stdout",
     "output_type": "stream",
     "text": [
      "zeros_like:\n",
      "tensor([[0, 0],\n",
      "        [0, 0]])\n",
      "\n",
      "ones_like:\n",
      "tensor([True, True, True, True])\n",
      "\n",
      "rand_like:\n",
      "tensor([0.9879, 0.1145, 0.6283, 0.9280])\n",
      "\n",
      "randn_like:\n",
      "tensor([[-0.5689, -1.1779],\n",
      "        [ 0.6162, -0.0732]])\n",
      "\n",
      "randint_like:\n",
      "tensor([[1, 1],\n",
      "        [0, 1]])\n"
     ]
    }
   ],
   "source": [
    "# Для многих конструкторов есть версия с ..._like, позволяющая создать тензор той же размерности что\n",
    "#  и другой тензор, вместо прямого указания размерностей, dtype так же наследуется если явно не указать\n",
    "#  обратного\n",
    "print(\n",
    "    f\"zeros_like:\\n{torch.zeros_like(matrix_tensor)}\",\n",
    "    f\"ones_like:\\n{torch.ones_like(vector_tensor, dtype=torch.bool)}\",\n",
    "    f\"rand_like:\\n{torch.rand_like(vector_tensor)}\",\n",
    "    f\"randn_like:\\n{torch.randn_like(matrix_tensor, dtype=torch.float)}\",\n",
    "    f\"randint_like:\\n{torch.randint_like(matrix_tensor, 0, 3)}\",\n",
    "    sep=\"\\n\\n\",\n",
    ")"
   ]
  },
  {
   "cell_type": "code",
   "execution_count": null,
   "id": "f98c5027-656a-4079-b1cb-a7dd2c93c891",
   "metadata": {},
   "outputs": [],
   "source": []
  },
  {
   "cell_type": "markdown",
   "id": "dae05ca4",
   "metadata": {
    "cellId": "xzqbpiyh8opwh1wonld67c",
    "execution_id": "5ff0463d-9d21-4459-a9ad-f5b4684dbd44"
   },
   "source": [
    "### 3. Математические операции"
   ]
  },
  {
   "cell_type": "code",
   "execution_count": 25,
   "id": "67a0eef0",
   "metadata": {
    "cellId": "8025cq3yngnquqq6tiry3"
   },
   "outputs": [
    {
     "name": "stdout",
     "output_type": "stream",
     "text": [
      "Изначальный вектор:\n",
      "tensor([ 1.0000,  0.5000,  3.7000, -0.5000])\n",
      "\n",
      "Умножение или деление вектора на константу:\n",
      "tensor([ 2.0000,  1.0000,  7.4000, -1.0000])\n",
      "\n",
      "Прибавление или вычетание константы из вектора:\n",
      "tensor([5.0000, 4.5000, 7.7000, 3.5000])\n",
      "\n",
      "Логические операции так же поддержаны:\n",
      "tensor([ True,  True,  True, False])\n",
      "\n",
      "Возведение в степень как поэлементная операция:\n",
      "tensor([ 1.0000,  0.2500, 13.6900,  0.2500])\n",
      "\n",
      "В том числе можно и в обратную сторону:\n",
      "tensor([ 2.0000,  1.4142, 12.9960,  0.7071])\n"
     ]
    }
   ],
   "source": [
    "# Константа взаимодействует с любым тензором поэлементно\n",
    "print(\n",
    "    f\"Изначальный вектор:\\n{vector_tensor}\",\n",
    "    f\"Умножение или деление вектора на константу:\\n{vector_tensor * 2}\",\n",
    "    f\"Прибавление или вычетание константы из вектора:\\n{vector_tensor + 4}\",\n",
    "    f\"Логические операции так же поддержаны:\\n{vector_tensor > 0}\",\n",
    "    f\"Возведение в степень как поэлементная операция:\\n{vector_tensor ** 2}\",\n",
    "    f\"В том числе можно и в обратную сторону:\\n{2 ** vector_tensor}\",\n",
    "    sep=\"\\n\\n\",\n",
    ")"
   ]
  },
  {
   "cell_type": "code",
   "execution_count": 26,
   "id": "b1f7796f",
   "metadata": {
    "cellId": "vuzmffkatciyxbyxf9zae"
   },
   "outputs": [
    {
     "name": "stdout",
     "output_type": "stream",
     "text": [
      "Изначальные вектора:\n",
      "tensor([ 1.0000,  0.5000,  3.7000, -0.5000])\n",
      "tensor([ 0.0000,  1.0000, -0.5000, -2.0000])\n",
      "\n",
      "Сумма/разница векторов (поэлементно):\n",
      "tensor([ 1.0000,  1.5000,  3.2000, -2.5000])\n",
      "\n",
      "Умножение/деление векторов (поэлементно):\n",
      "tensor([ 0.0000,  0.5000, -1.8500,  1.0000])\n"
     ]
    }
   ],
   "source": [
    "# Арифметика между тензорами одинаковой размерности\n",
    "vector_tensor_2 = torch.tensor([0., 1., -0.5, -2.])\n",
    "\n",
    "print(\n",
    "    f\"Изначальные вектора:\\n{vector_tensor}\\n{vector_tensor_2}\",\n",
    "    f\"Сумма/разница векторов (поэлементно):\\n{vector_tensor + vector_tensor_2}\",\n",
    "    f\"Умножение/деление векторов (поэлементно):\\n{vector_tensor * vector_tensor_2}\",\n",
    "    sep=\"\\n\\n\",\n",
    ")"
   ]
  },
  {
   "cell_type": "code",
   "execution_count": 27,
   "id": "3dce0e50",
   "metadata": {
    "cellId": "0p3g1apc24uhw3irlwbn"
   },
   "outputs": [
    {
     "name": "stdout",
     "output_type": "stream",
     "text": [
      "Изначальные матрицы:\n",
      "tensor([[ 1., -1.],\n",
      "        [-2.,  4.]])\n",
      "tensor([[3., 1.],\n",
      "        [2., 1.]])\n",
      "\n",
      "\n",
      "Поэлементная сумма матриц\n",
      "tensor([[4., 0.],\n",
      "        [0., 5.]])\n",
      "\n",
      "\n",
      "Обычный символ произведения даст поэлементное произведение матриц\n",
      "tensor([[ 3., -1.],\n",
      "        [-4.,  4.]])\n",
      "\n",
      "\n",
      "Матричное произведение двух матриц:\n",
      "\n",
      "Первая на вторую\n",
      "tensor([[1., 0.],\n",
      "        [2., 2.]])\n",
      "\n",
      "Вторая на первую\n",
      "tensor([[1., 1.],\n",
      "        [0., 2.]])\n"
     ]
    }
   ],
   "source": [
    "# В PyTorch так же поддержана операция матричного умножения\n",
    "matrix_tensor_1 = torch.tensor([[1, -1], [-2, 4]], dtype=torch.float)\n",
    "matrix_tensor_2 = torch.tensor([[3, 1], [2, 1]], dtype=torch.float)\n",
    "\n",
    "print(\n",
    "    f\"Изначальные матрицы:\\n{matrix_tensor_1}\\n{matrix_tensor_2}\",\n",
    "    f\"Поэлементная сумма матриц\\n{matrix_tensor_1 + matrix_tensor_2}\",\n",
    "    f\"Обычный символ произведения даст поэлементное произведение матриц\\n{matrix_tensor_1 * matrix_tensor_2}\",\n",
    "    (\n",
    "        f\"Матричное произведение двух матриц:\"\n",
    "        f\"\\n\\nПервая на вторую\\n{matrix_tensor_1 @ matrix_tensor_2}\"\n",
    "        f\"\\n\\nВторая на первую\\n{torch.mm(matrix_tensor_2, matrix_tensor_1)}\"\n",
    "    ),\n",
    "    sep=\"\\n\\n\\n\",\n",
    ")"
   ]
  },
  {
   "cell_type": "markdown",
   "id": "7fcb7e52",
   "metadata": {
    "cellId": "zvwven6bq7fv83bq6yc15",
    "execution_id": "bbdff5d3-b025-43fd-be04-aa067be825e6"
   },
   "source": [
    "### 4. Функции тензоров"
   ]
  },
  {
   "cell_type": "code",
   "execution_count": 28,
   "id": "c0153878",
   "metadata": {
    "cellId": "4mkh1emj448c360lb1a6me"
   },
   "outputs": [
    {
     "name": "stdout",
     "output_type": "stream",
     "text": [
      "Изначальный вектор:\n",
      "tensor([ 1.0000,  0.5000,  3.7000, -0.5000])\n",
      "\n",
      "Сумма элементов:\n",
      "4.699999809265137\n",
      "\n",
      "Максимальное значение:\n",
      "3.700000047683716\n",
      "\n",
      "Минимальное значение:\n",
      "-0.5\n",
      "\n",
      "Среднее элементов:\n",
      "1.1749999523162842\n",
      "\n",
      "Значения по модулю:\n",
      "tensor([1.0000, 0.5000, 3.7000, 0.5000])\n",
      "\n",
      "Округлить значения до ближайшего целого:\n",
      "tensor([1., 0., 4., -0.])\n",
      "\n",
      "Поэлементный квадратичный корень:\n",
      "tensor([1.0000, 0.7071, 1.9235,    nan])\n",
      "\n",
      "Поэлементный косинус:\n",
      "tensor([ 0.5403,  0.8776, -0.8481,  0.8776])\n",
      "\n",
      "И многое-многое другое... Есть очень хорошая документация https://pytorch.org/docs/stable/torch.html\n"
     ]
    }
   ],
   "source": [
    "# Много функций для подсчёта статистик и быстрого взаимодействия, к примеру, поэлементных математических операций\n",
    "print(\n",
    "    f\"Изначальный вектор:\\n{vector_tensor}\",\n",
    "    f\"Сумма элементов:\\n{vector_tensor.sum()}\",\n",
    "    f\"Максимальное значение:\\n{vector_tensor.max()}\",\n",
    "    f\"Минимальное значение:\\n{vector_tensor.min()}\",\n",
    "    f\"Среднее элементов:\\n{vector_tensor.mean()}\",\n",
    "    f\"Значения по модулю:\\n{vector_tensor.abs()}\",\n",
    "    f\"Округлить значения до ближайшего целого:\\n{vector_tensor.round()}\",\n",
    "    f\"Поэлементный квадратичный корень:\\n{vector_tensor.sqrt()}\",\n",
    "    f\"Поэлементный косинус:\\n{vector_tensor.cos()}\",\n",
    "    \"И многое-многое другое... Есть очень хорошая документация https://pytorch.org/docs/stable/torch.html\",\n",
    "    sep=\"\\n\\n\",\n",
    ")"
   ]
  },
  {
   "cell_type": "markdown",
   "id": "cea9eef6",
   "metadata": {
    "cellId": "5qy7s5kcq2lyk3n4xyd3hm",
    "execution_id": "d580ebf5-8011-4a5b-a97e-b3292eef1cab"
   },
   "source": [
    "### 5. Что ещё можно делать с тензорами"
   ]
  },
  {
   "cell_type": "code",
   "execution_count": 29,
   "id": "11b96d94",
   "metadata": {
    "cellId": "dio7yog7bnzzzumbbj1w"
   },
   "outputs": [
    {
     "name": "stdout",
     "output_type": "stream",
     "text": [
      "Изначальные вектора:\n",
      "tensor([ 1.0000,  0.5000,  3.7000, -0.5000])\n",
      "tensor([ 0.0000,  1.0000, -0.5000, -2.0000])\n",
      "\n",
      "Объединять вдоль существующей оси:\n",
      "tensor([ 1.0000,  0.5000,  3.7000, -0.5000,  0.0000,  1.0000, -0.5000, -2.0000])\n",
      "\n",
      "Объединять вдоль новой оси:\n",
      "tensor([[ 1.0000,  0.5000,  3.7000, -0.5000],\n",
      "        [ 0.0000,  1.0000, -0.5000, -2.0000]])\n",
      "\n",
      "Изменять размерность:\n",
      "tensor([[ 1.0000,  0.5000],\n",
      "        [ 3.7000, -0.5000]])\n"
     ]
    }
   ],
   "source": [
    "print(\n",
    "    f\"Изначальные вектора:\\n{vector_tensor}\\n{vector_tensor_2}\",\n",
    "    f\"Объединять вдоль существующей оси:\\n{torch.cat([vector_tensor, vector_tensor_2], dim=0)}\",\n",
    "    f\"Объединять вдоль новой оси:\\n{torch.stack([vector_tensor, vector_tensor_2], dim=0)}\",\n",
    "    f\"Изменять размерность:\\n{vector_tensor.reshape(2, 2)}\",\n",
    "    sep=\"\\n\\n\",\n",
    ")"
   ]
  },
  {
   "cell_type": "code",
   "execution_count": 30,
   "id": "13a910be",
   "metadata": {
    "cellId": "mjf9qek99cl38t5g6ncngl"
   },
   "outputs": [
    {
     "name": "stdout",
     "output_type": "stream",
     "text": [
      "Смотрим на оригинальный вектор:\n",
      "tensor([ 1, -2,  3, -4])\n",
      "\n",
      "Применяем стандартную поэлементную функцию модуля числа:\n",
      "tensor([1, 2, 3, 4])\n",
      "\n",
      "Смотрим на оригинальный вектор второй раз:\n",
      "tensor([ 1, -2,  3, -4])\n",
      "\n",
      "Применяем in-place поэлементную функцию модуля числа:\n",
      "tensor([1, 2, 3, 4])\n",
      "\n",
      "Смотрим на оригинальный вектор третий раз:\n",
      "tensor([1, 2, 3, 4])\n"
     ]
    }
   ],
   "source": [
    "# Почти для всех поточечных операций есть 2 версии этой операции\n",
    "#  1. Cтандартная - к пр. vector_tensor.sqrt()\n",
    "#     cчитает поэлементно корень и ВОЗВРАЩАЕТ НОВЫЙ тензор, но НЕ МЕНЯЕТ ОРИГИНАЛЬНЫЙ тензор\n",
    "#  2. In-place - к пр. vector_tensor.sqrt_()\n",
    "#     cчитает поэлементно корень и ВОЗВРАЩАЕТ НОВЫЙ тензор, и МЕНЯЕТ ОРИГИНАЛЬНЫЙ тензор\n",
    "vector_tensor = torch.tensor([1, -2, 3, -4])\n",
    "\n",
    "print(\n",
    "    f\"Смотрим на оригинальный вектор:\\n{vector_tensor}\",\n",
    "    f\"Применяем стандартную поэлементную функцию модуля числа:\\n{vector_tensor.abs()}\",\n",
    "    f\"Смотрим на оригинальный вектор второй раз:\\n{vector_tensor}\",\n",
    "    f\"Применяем in-place поэлементную функцию модуля числа:\\n{vector_tensor.abs_()}\",\n",
    "    f\"Смотрим на оригинальный вектор третий раз:\\n{vector_tensor}\",\n",
    "    sep=\"\\n\\n\",\n",
    ")"
   ]
  },
  {
   "cell_type": "code",
   "execution_count": null,
   "id": "970477c7",
   "metadata": {},
   "outputs": [],
   "source": []
  }
 ],
 "metadata": {
  "kernelspec": {
   "display_name": "Python 3 (ipykernel)",
   "language": "python",
   "name": "python3"
  },
  "language_info": {
   "codemirror_mode": {
    "name": "ipython",
    "version": 3
   },
   "file_extension": ".py",
   "mimetype": "text/x-python",
   "name": "python",
   "nbconvert_exporter": "python",
   "pygments_lexer": "ipython3",
   "version": "3.7.16"
  },
  "notebookId": "acb09e64-0f5a-487d-8145-fea4f3cbd3ad",
  "notebookPath": "Sirius/sirius_lecture_2.ipynb"
 },
 "nbformat": 4,
 "nbformat_minor": 5
}
