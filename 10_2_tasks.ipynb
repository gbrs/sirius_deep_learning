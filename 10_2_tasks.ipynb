{
 "cells": [
  {
   "cell_type": "markdown",
   "metadata": {},
   "source": [
    "# Подготовка"
   ]
  },
  {
   "cell_type": "markdown",
   "metadata": {},
   "source": [
    "Установка необходимых библиотек."
   ]
  },
  {
   "cell_type": "code",
   "execution_count": null,
   "metadata": {},
   "outputs": [],
   "source": [
    "!pip3 install opencv-python"
   ]
  },
  {
   "cell_type": "markdown",
   "metadata": {},
   "source": [
    "Импорт необходимых библиотек."
   ]
  },
  {
   "cell_type": "code",
   "execution_count": null,
   "metadata": {
    "executionInfo": {
     "elapsed": 4550,
     "status": "ok",
     "timestamp": 1700757597917,
     "user": {
      "displayName": "Gleb Bazhenov",
      "userId": "08252848255434331880"
     },
     "user_tz": -180
    },
    "id": "Te5KbhFWSieL"
   },
   "outputs": [],
   "source": [
    "import os\n",
    "import random\n",
    "\n",
    "import numpy as np\n",
    "from matplotlib import pyplot as plt\n",
    "import cv2\n",
    "\n",
    "import torch\n",
    "from torch import nn\n",
    "\n",
    "import hashlib"
   ]
  },
  {
   "cell_type": "markdown",
   "metadata": {},
   "source": [
    "Определяем, есть ли у нас доступ к вычислениям на GPU."
   ]
  },
  {
   "cell_type": "code",
   "execution_count": null,
   "metadata": {
    "executionInfo": {
     "elapsed": 7,
     "status": "ok",
     "timestamp": 1700757597917,
     "user": {
      "displayName": "Gleb Bazhenov",
      "userId": "08252848255434331880"
     },
     "user_tz": -180
    },
    "id": "cFCLwX3XTGbg"
   },
   "outputs": [],
   "source": [
    "use_cuda = torch.cuda.is_available()"
   ]
  },
  {
   "cell_type": "markdown",
   "metadata": {},
   "source": [
    "Задаём функцию для того, чтобы зафиксировать случайность в рамках блокнота. Это необходимо для того, чтобы можно было проверить полученные решения через платформу."
   ]
  },
  {
   "cell_type": "code",
   "execution_count": null,
   "metadata": {
    "executionInfo": {
     "elapsed": 5,
     "status": "ok",
     "timestamp": 1700757597917,
     "user": {
      "displayName": "Gleb Bazhenov",
      "userId": "08252848255434331880"
     },
     "user_tz": -180
    },
    "id": "1dWQtNxOSbuB"
   },
   "outputs": [],
   "source": [
    "def set_seed(seed: int):\n",
    "    \"\"\"\n",
    "    Фиксирует случайность в процессе обучения и применения нейронных сетей.\n",
    "    \n",
    "    Функция нужна для того, чтобы вне зависимости от того,\n",
    "    на каком устройстве и в какой момент времени\n",
    "    запускается текущий код, он всегда возвращал\n",
    "    одни и те же значения.\n",
    "    \n",
    "    В первую очередь это нужно для того, чтобы можно было\n",
    "    проверить корректность решения заданий из блокнота.\n",
    "    \"\"\"\n",
    "    os.environ[\"PYTHONHASHSEED\"] = str(seed)\n",
    "    random.seed(seed)\n",
    "    np.random.seed(seed)\n",
    "    torch.manual_seed(seed)\n",
    "    torch.cuda.manual_seed(seed)\n",
    "    torch.cuda.manual_seed_all(seed)\n",
    "    torch.backends.cudnn.deterministic = True\n",
    "    torch.backends.cudnn.benchmark = False"
   ]
  },
  {
   "cell_type": "markdown",
   "metadata": {},
   "source": [
    "# Пролог"
   ]
  },
  {
   "cell_type": "markdown",
   "metadata": {},
   "source": [
    "В рамках последующих заданий мы будем работать с генератором и дискриминатором генеративно-состязательной сети, обученной на данных датасета MNIST.\n",
    "\n",
    "Датасет содержит изображения рукописных цифр от $0$ до $9$ и уже встречался нам раньше. Например, в практической лекции в этом модуле.\n",
    "\n",
    "Важно, что модели уже предобучены, то есть дополнительно обучать мы их не будем. Будем только применять.\n",
    "\n",
    "Также важно, что значения пикселей в изображениях из датасета в рамах заданий мы будем рассматривать как числа в диапазоне от ${-1}$ до $1$."
   ]
  },
  {
   "cell_type": "markdown",
   "metadata": {},
   "source": [
    "# Задание 1. Смешивание шумов"
   ]
  },
  {
   "cell_type": "markdown",
   "metadata": {},
   "source": [
    "Зададим функцию, с помощью которой будем генерировать входные изображения-шумы для генератора.\n",
    "\n",
    "Для простоты будем рассматривать чёрно-белое изображение как вектор, полученный в результате конкатенации строчек матрицы изображения."
   ]
  },
  {
   "cell_type": "code",
   "execution_count": null,
   "metadata": {
    "id": "vwMct4uRgmbw"
   },
   "outputs": [],
   "source": [
    "def sample_noise_batch(batch_size, latent_dim):\n",
    "    \"\"\"\n",
    "    Генерирует батч случайного шума заданной размерности.\n",
    "    \"\"\"\n",
    "    noise_batch = torch.randn(batch_size, latent_dim)\n",
    "    if use_cuda:\n",
    "        noise_batch = noise_batch.cuda()\n",
    "    return noise_batch"
   ]
  },
  {
   "cell_type": "code",
   "execution_count": null,
   "metadata": {
    "id": "qVAqgwPigQ3c"
   },
   "outputs": [],
   "source": [
    "class ConvGenerator(nn.Module):\n",
    "    def __init__(\n",
    "        self,\n",
    "        latent_dim: int\n",
    "    ):\n",
    "        # Фиксируем случайность, чтобы при инициализации модель\n",
    "        # всегда получалась одной и той же.\n",
    "        set_seed(39)\n",
    "        \n",
    "        super().__init__()\n",
    "\n",
    "        # Генератор принимает изображение-шум в формате вектора,\n",
    "        # преобразует его с помощью линейного слоя,\n",
    "        # после этого полученный вектор приводится к формату изображения HxWxC,\n",
    "        # где H — высота (равна 4), W — ширина (равна 4) и C — число каналов (равно 512).\n",
    "        # Далее к полученному тензору применяется ряд свёрточных слоёв,\n",
    "        # чередующихся с операцией upsampling.\n",
    "        # В результате получается изображение размера 28x28, в котором каждый пиксель\n",
    "        # представлен числом в диапазоне от -1 до 1: за это отвечает функция активации tanh.\n",
    "        self.layers = nn.Sequential(\n",
    "            nn.Linear(latent_dim, 4 * 4 * 512, bias=False),\n",
    "            nn.BatchNorm1d(4 * 4 * 512),\n",
    "            nn.LeakyReLU(0.2),\n",
    "            nn.Unflatten(1, (512, 4, 4)),\n",
    "\n",
    "            nn.Conv2d(512, 256, kernel_size=3, padding=1, bias=False),\n",
    "            nn.BatchNorm2d(256),\n",
    "            nn.LeakyReLU(0.2),\n",
    "            nn.Upsample(scale_factor=1.75, mode='nearest'),\n",
    "\n",
    "            nn.Conv2d(256, 128, kernel_size=3, padding=1, bias=False),\n",
    "            nn.BatchNorm2d(128),\n",
    "            nn.LeakyReLU(0.2),\n",
    "            nn.Upsample(scale_factor=2, mode='nearest'),\n",
    "\n",
    "            nn.Conv2d(128, 64, kernel_size=3, padding=1, bias=False),\n",
    "            nn.BatchNorm2d(64),\n",
    "            nn.LeakyReLU(0.2),\n",
    "            nn.Upsample(scale_factor=2, mode='nearest'),\n",
    "\n",
    "            nn.Conv2d(64, 1, kernel_size=3, padding=1),\n",
    "            nn.Tanh()\n",
    "        )\n",
    "\n",
    "    def forward(self, x):\n",
    "        return self.layers(x)"
   ]
  },
  {
   "cell_type": "markdown",
   "metadata": {},
   "source": [
    "Задаём размер вектора шума."
   ]
  },
  {
   "cell_type": "code",
   "execution_count": null,
   "metadata": {
    "id": "c6oBpGdNghBw"
   },
   "outputs": [],
   "source": [
    "latent_dim = 100"
   ]
  },
  {
   "cell_type": "markdown",
   "metadata": {},
   "source": [
    "Создаём генератор и подгружаем в него предобученные веса из файла `generator.pt`."
   ]
  },
  {
   "cell_type": "code",
   "execution_count": null,
   "metadata": {
    "id": "vKz5tlW1gTV4"
   },
   "outputs": [],
   "source": [
    "generator = ConvGenerator(latent_dim=latent_dim)\n",
    "state_dict = torch.load('generator.pt', map_location='cpu')\n",
    "generator.load_state_dict(state_dict)\n",
    "if use_cuda:\n",
    "    generator = generator.cuda()"
   ]
  },
  {
   "cell_type": "markdown",
   "metadata": {},
   "source": [
    "Как вы знаете, генератор для заданного случайного шума создаст новое изображение. В нашем случае это будет какая-то цифра. Для разных случайных шумов генератор может создать разные цифры.\n",
    "\n",
    "Интересно, что если у нас есть два шума, соответствующих разным цифрам, мы можем смешать их, чтобы получить в результате генерации нечто среднее. В рамках задания мы пронаблюдаем этот эффект."
   ]
  },
  {
   "cell_type": "markdown",
   "metadata": {},
   "source": [
    "Сначала сгенерируем два разных шума, соответствующих разным цифрам."
   ]
  },
  {
   "cell_type": "code",
   "execution_count": null,
   "metadata": {
    "id": "y5n6C4VXgYrq"
   },
   "outputs": [],
   "source": [
    "set_seed(108)\n",
    "noise_1 = sample_noise_batch(1, latent_dim)\n",
    "noise_2 = sample_noise_batch(1, latent_dim)"
   ]
  },
  {
   "cell_type": "markdown",
   "metadata": {},
   "source": [
    "Шумы можно смешивать в разных пропорциях. Эти пропорции будут задаваться коэффициентом $\\alpha$.\n",
    "\n",
    "Формула для смешивания шумов:\n",
    "$$\\text{noise_mixed} = \\alpha \\cdot \\text{noise_1} + (1 - \\alpha) \\cdot \\text{noise_2}.$$"
   ]
  },
  {
   "cell_type": "markdown",
   "metadata": {},
   "source": [
    "Зададим несколько вариантов коэффициента $\\alpha$, чтобы посмотреть как будет меняться сгенерированное изображение в зависимости от объёма примеси того или иного шума в шуме, на основе которого происходит генерация."
   ]
  },
  {
   "cell_type": "code",
   "execution_count": null,
   "metadata": {
    "id": "U1-7ZbtKgxZk"
   },
   "outputs": [],
   "source": [
    "alphas = [0.0, 0.25, 0.5, 0.75, 1.]"
   ]
  },
  {
   "cell_type": "markdown",
   "metadata": {},
   "source": [
    "Сгенерируем изображения на основе шума, полученного с помощью смешения двух других шумов в разных пропорциях.\n",
    "\n",
    "**Обратите внимание,** что в коде ниже вам необходимо самостоятельно заполнить переменную `noise_mixed` в теле цикла. Переменная заполняется согласно формуле получения смешенного шума, зафиксированной выше."
   ]
  },
  {
   "cell_type": "code",
   "execution_count": null,
   "metadata": {
    "id": "uY5aTFkyhAvs"
   },
   "outputs": [],
   "source": [
    "gen_images = []\n",
    "\n",
    "generator.eval()\n",
    "for alpha in alphas:\n",
    "    with torch.no_grad():\n",
    "        noise_mixed = ... # TODO\n",
    "        gen_image = generator(noise_mixed)\n",
    "        gen_images.append(gen_image)\n"
   ]
  },
  {
   "cell_type": "markdown",
   "metadata": {},
   "source": [
    "Посмотрим на сгенерированные изображения."
   ]
  },
  {
   "cell_type": "code",
   "execution_count": null,
   "metadata": {
    "colab": {
     "base_uri": "https://localhost:8080/",
     "height": 192
    },
    "id": "bRsko-SMh7D-",
    "outputId": "5b4d6f6d-ff89-45ec-e1e1-1079602db11d"
   },
   "outputs": [],
   "source": [
    "plt.figure(figsize=(10, 4))\n",
    "for i in range(len(alphas)):\n",
    "    gen_image_np = gen_images[i][0].cpu().permute(1, 2, 0).numpy()\n",
    "    plt.subplot(1, len(alphas), i + 1)\n",
    "    plt.imshow(gen_image_np, vmin=-1, vmax=1., cmap='Greys_r')\n",
    "    plt.axis('off')\n",
    "    plt.title(f'alpha={alphas[i]}')"
   ]
  },
  {
   "cell_type": "markdown",
   "metadata": {},
   "source": [
    "Видим, что по мере изменения соотношения шума от разных цифр в шуме, который используется для генерации, генерируемое изображение плавно переходит от цифры «4» к цифре «6».\n",
    "\n",
    "Это ровно тот эффект, который мы и хотели пронаблюдать."
   ]
  },
  {
   "cell_type": "markdown",
   "metadata": {},
   "source": [
    "> **Ввод ответа на платформе. Вопрос 1.**\n",
    ">\n",
    "> Ниже приведён код, который превратит последнее сгенерированное изображение в хэш-код. В качестве ответа на задание необходимо указать тот хэш, который будет выведен на экран в результате исполнения ячейки ниже."
   ]
  },
  {
   "cell_type": "code",
   "execution_count": null,
   "metadata": {},
   "outputs": [],
   "source": [
    "gen_image_test = gen_images[-1][0].cpu().permute(1, 2, 0).numpy()\n",
    "hash_test = hashlib.sha256(gen_image_test.data.tobytes()).hexdigest()\n",
    "print(hash_test)"
   ]
  },
  {
   "cell_type": "markdown",
   "metadata": {},
   "source": [
    "В следующем задании нам понадобится полученное изображение с цифрой «6», сохраним его."
   ]
  },
  {
   "cell_type": "code",
   "execution_count": null,
   "metadata": {},
   "outputs": [],
   "source": [
    "torch.save(gen_images[-1][0].cpu().permute(1, 2, 0), 'generated.pt')"
   ]
  },
  {
   "cell_type": "markdown",
   "metadata": {},
   "source": [
    "# Задание 2. Странное поведение дискриминатора"
   ]
  },
  {
   "cell_type": "markdown",
   "metadata": {},
   "source": [
    "В рамках задания у нас уже есть предобученный дискриминатор, который умеет определять правдоподобие изображений из датасета MNIST. Для того чтобы им воспользоваться, нужно воссоздать соответствующую архитектуру в коде с помощью готовых слоёв из PyTorch."
   ]
  },
  {
   "cell_type": "code",
   "execution_count": null,
   "metadata": {
    "executionInfo": {
     "elapsed": 4,
     "status": "ok",
     "timestamp": 1700757597918,
     "user": {
      "displayName": "Gleb Bazhenov",
      "userId": "08252848255434331880"
     },
     "user_tz": -180
    },
    "id": "RSmQVNjFTYpV"
   },
   "outputs": [],
   "source": [
    "class ConvDiscriminator(nn.Module):\n",
    "    def __init__(self):\n",
    "        # Фиксируем случайность, чтобы при инициализации модель\n",
    "        # всегда получалась одной и той же.\n",
    "        set_seed(42)\n",
    "        \n",
    "        super().__init__()\n",
    "\n",
    "        # Дискриминатор имеет классическую свёрточную архитектуру:\n",
    "        # несколько свёрточных слоёв, извлекающих признаки,\n",
    "        # после которых следуют линейные слои, которые отвечают\n",
    "        # непосредственно за классификацию объекта.\n",
    "        self.layers = nn.Sequential(\n",
    "            nn.Conv2d(1, 64, kernel_size=3, padding=1, stride=2),  # 14x14\n",
    "            nn.LeakyReLU(0.2),\n",
    "\n",
    "            nn.Conv2d(64, 128, kernel_size=3, padding=1, stride=2),  # 7x7\n",
    "            nn.LeakyReLU(0.2),\n",
    "            nn.BatchNorm2d(128),\n",
    "\n",
    "            nn.Conv2d(128, 256, kernel_size=3, padding=1, stride=2),  # 4x4\n",
    "            nn.BatchNorm2d(256),\n",
    "            nn.LeakyReLU(0.2),\n",
    "\n",
    "            nn.Flatten(start_dim=1, end_dim=-1),\n",
    "            nn.Linear(256 * 4 * 4, 1),\n",
    "            nn.Sigmoid()\n",
    "        )\n",
    "\n",
    "    def forward(self, x):\n",
    "        return self.layers(x)"
   ]
  },
  {
   "cell_type": "markdown",
   "metadata": {},
   "source": [
    "Создаём дискриминатор с заданной архитектурой и подгружаем в него предобученные веса из файла `discriminator.pt`."
   ]
  },
  {
   "cell_type": "code",
   "execution_count": null,
   "metadata": {
    "colab": {
     "base_uri": "https://localhost:8080/",
     "height": 391
    },
    "executionInfo": {
     "elapsed": 561,
     "status": "error",
     "timestamp": 1700757598475,
     "user": {
      "displayName": "Gleb Bazhenov",
      "userId": "08252848255434331880"
     },
     "user_tz": -180
    },
    "id": "rZ1K29SKSpNB",
    "outputId": "2b69d458-c642-4b90-d2e4-f318d1f66124"
   },
   "outputs": [],
   "source": [
    "discriminator = ConvDiscriminator()\n",
    "state_dict = torch.load('discriminator.pt', map_location='cpu')\n",
    "discriminator.load_state_dict(state_dict)\n",
    "if use_cuda:\n",
    "    discriminator = discriminator.cuda()"
   ]
  },
  {
   "cell_type": "markdown",
   "metadata": {},
   "source": [
    "Фиксируем размер изображений, которые будем подавать на вход дискриминатору, — $28 \\times 28$, что соответствует размеру изображения из датасета MNIST."
   ]
  },
  {
   "cell_type": "code",
   "execution_count": null,
   "metadata": {
    "executionInfo": {
     "elapsed": 5,
     "status": "aborted",
     "timestamp": 1700757598476,
     "user": {
      "displayName": "Gleb Bazhenov",
      "userId": "08252848255434331880"
     },
     "user_tz": -180
    },
    "id": "KOBLuxtZU8cV"
   },
   "outputs": [],
   "source": [
    "image_size = 28"
   ]
  },
  {
   "cell_type": "markdown",
   "metadata": {},
   "source": [
    "Создадим изображение-шум, формат которого будет совпадать с форматом изображений из MNIST."
   ]
  },
  {
   "cell_type": "code",
   "execution_count": null,
   "metadata": {
    "executionInfo": {
     "elapsed": 5,
     "status": "aborted",
     "timestamp": 1700757598476,
     "user": {
      "displayName": "Gleb Bazhenov",
      "userId": "08252848255434331880"
     },
     "user_tz": -180
    },
    "id": "MB99PgQlUEeJ"
   },
   "outputs": [],
   "source": [
    "set_seed(42)\n",
    "noise = torch.randn((1, 1, image_size, image_size), dtype=torch.float32)\n",
    "\n",
    "if use_cuda:\n",
    "    noise = noise.cuda()"
   ]
  },
  {
   "cell_type": "markdown",
   "metadata": {},
   "source": [
    "Оценим с помощью дискриминатора вероятность того, что данный шум является правдоподобным изображением из MNIST."
   ]
  },
  {
   "cell_type": "code",
   "execution_count": null,
   "metadata": {
    "executionInfo": {
     "elapsed": 5,
     "status": "aborted",
     "timestamp": 1700757598476,
     "user": {
      "displayName": "Gleb Bazhenov",
      "userId": "08252848255434331880"
     },
     "user_tz": -180
    },
    "id": "XBxzabhIUtG5"
   },
   "outputs": [],
   "source": [
    "discriminator.eval()\n",
    "with torch.no_grad():\n",
    "    disc_on_noise = discriminator(noise)\n",
    "    \n",
    "noise_np = noise[0].cpu().permute(1, 2, 0).numpy()\n",
    "disc_on_noise_item = disc_on_noise.item()"
   ]
  },
  {
   "cell_type": "markdown",
   "metadata": {},
   "source": [
    "Выведем сам шум и вероятность, которую ему сопоставил дискриминатор."
   ]
  },
  {
   "cell_type": "code",
   "execution_count": null,
   "metadata": {
    "executionInfo": {
     "elapsed": 6,
     "status": "aborted",
     "timestamp": 1700757598477,
     "user": {
      "displayName": "Gleb Bazhenov",
      "userId": "08252848255434331880"
     },
     "user_tz": -180
    },
    "id": "87_fRCYgWgfm"
   },
   "outputs": [],
   "source": [
    "plt.imshow(noise_np, interpolation='none', cmap='Greys_r');\n",
    "plt.title(f'{disc_on_noise_item:.4f}')\n",
    "plt.xticks([])\n",
    "plt.yticks([]);"
   ]
  },
  {
   "cell_type": "markdown",
   "metadata": {},
   "source": [
    "> **Ввод ответа на платформе. Вопрос 1.**\n",
    ">\n",
    "> В качестве ответа на 1-й вопрос введите вероятность, которую дискриминатор назначил сгенерированному выше шуму.\n",
    ">\n",
    "> Ответ округлите до $4$ знаков после запятой."
   ]
  },
  {
   "cell_type": "markdown",
   "metadata": {},
   "source": [
    "Наблюдаем странное поведение для уже обученного дискриминатора. Обычному шуму он назначил большую вероятность существования.\n",
    "\n",
    "Попробуем сгенерировать ещё одно изображение-шум. В этот раз будем разрешать генерацию либо строго чёрных, либо строго белых пикселей."
   ]
  },
  {
   "cell_type": "code",
   "execution_count": null,
   "metadata": {
    "id": "jYr8oLptZWDR"
   },
   "outputs": [],
   "source": [
    "set_seed(43)\n",
    "rand_bin = torch.randint(2, size=(1, 1, image_size, image_size), dtype=torch.float32) * 2 - 1\n",
    "\n",
    "if use_cuda:\n",
    "    rand_bin = rand_bin.cuda()"
   ]
  },
  {
   "cell_type": "markdown",
   "metadata": {},
   "source": [
    "Снова оцениваем вероятность правдоподобия, которую дискриминатор присвоил нашему шуму."
   ]
  },
  {
   "cell_type": "code",
   "execution_count": null,
   "metadata": {
    "id": "1--SIGQ9akj7"
   },
   "outputs": [],
   "source": [
    "discriminator.eval()\n",
    "with torch.no_grad():\n",
    "    disc_on_rand_bin = discriminator(rand_bin)\n",
    "    \n",
    "rand_bin_np = rand_bin[0].cpu().permute(1, 2, 0).numpy()\n",
    "disc_on_rand_bin_item = disc_on_rand_bin.item()"
   ]
  },
  {
   "cell_type": "code",
   "execution_count": null,
   "metadata": {
    "colab": {
     "base_uri": "https://localhost:8080/",
     "height": 428
    },
    "id": "9QgluHeXaqCh",
    "outputId": "2cdd6573-d87e-4f79-b524-97e688dde830"
   },
   "outputs": [],
   "source": [
    "plt.imshow(rand_bin_np, interpolation='none', cmap='Greys_r', vmin=-1., vmax=1.);\n",
    "plt.title(f'{disc_on_rand_bin_item:.4f}')\n",
    "plt.xticks([])\n",
    "plt.yticks([]);"
   ]
  },
  {
   "cell_type": "markdown",
   "metadata": {},
   "source": [
    "Видим, что дискриминатор снова ошибся, посчитав шум правдоподобным изображением. Закрадываются сомнения в корректной работе этого дискриминатора на сгенерированных генератором примерах.\n",
    "\n",
    "Давайте проверим, как он справляется с ними. Для этого загрузим уже готовый сгенерированный пример с цифрой «6» и оценим его правдоподобие с точки зрения дискриминатора."
   ]
  },
  {
   "cell_type": "code",
   "execution_count": null,
   "metadata": {},
   "outputs": [],
   "source": [
    "generated = torch.load('generated.pt').reshape(1, 28, 28, 1).permute(0, 3, 1, 2)\n",
    "\n",
    "if use_cuda:\n",
    "    generated = generated.cuda()\n",
    "    \n",
    "discriminator.eval()\n",
    "with torch.no_grad():\n",
    "    disc_on_generated = discriminator(generated)\n",
    "    \n",
    "generated_np = generated[0].cpu().permute(1, 2, 0).numpy()\n",
    "disc_on_generated_item = disc_on_generated.item()"
   ]
  },
  {
   "cell_type": "code",
   "execution_count": null,
   "metadata": {},
   "outputs": [],
   "source": [
    "plt.imshow(generated_np, interpolation='none', cmap='Greys_r', vmin=-1., vmax=1.);\n",
    "plt.title(f'{disc_on_generated_item:.4f}')\n",
    "plt.xticks([])\n",
    "plt.yticks([]);"
   ]
  },
  {
   "cell_type": "markdown",
   "metadata": {},
   "source": [
    "А для сгенерированного генератором примера дискриминатор не ошибся, выдав его вероятность правдоподобия в районе $5\\%$."
   ]
  },
  {
   "cell_type": "markdown",
   "metadata": {},
   "source": [
    "> **Ввод ответа на платформе. Вопрос 2.**\n",
    ">\n",
    "> В качестве ответа на 2-й вопрос введите вероятность, которую дискриминатор назначил сгенерирвоанной цифре «4».\n",
    ">\n",
    "> Ответ округлите до $4$ знаков после запятой."
   ]
  },
  {
   "cell_type": "markdown",
   "metadata": {},
   "source": [
    "Почему получается так, что для очевидно некорректных примеров, которые являются шумом, дискриминатор выдаёт высокую вероятность правдоподобия, а похожим на правдоподобные изображениям, сгенерированным генератором, назначает низкую вероятность правдоподобия?"
   ]
  },
  {
   "cell_type": "markdown",
   "metadata": {},
   "source": [
    "Дискриминатор лишь учится отличать сгенерированные примеры от настоящих (при этом на поздних шагах обучения ему надо только уметь отличать менее качественные примеры рукописных цифр от более качественных).\n",
    "\n",
    "Таким образом, дискриминатор может не иметь ни малейшего представления о том, как устроен весь остальной мир (все остальное пространство изображений) и насколько правдоподобными являются наблюдения, которые не получены в результате генерации, а просто находятся в других частях пространства изображений."
   ]
  },
  {
   "cell_type": "markdown",
   "metadata": {},
   "source": [
    "Убедимся в этом, продемонстрировав дискриминатору изображение, аналоги которого он точно не мог видеть в процессе обучения, — изображение кота."
   ]
  },
  {
   "cell_type": "code",
   "execution_count": null,
   "metadata": {
    "id": "IQs-NinnmjZH"
   },
   "outputs": [],
   "source": [
    "cat = cv2.imread('cat.jpeg')\n",
    "cat = cv2.cvtColor(cat, cv2.COLOR_BGR2GRAY)\n",
    "cat = cv2.resize(cat, (28, 28))\n",
    "cat = torch.tensor(cat, dtype=torch.float32) / 127.5 - 1\n",
    "cat = cat.view(1, 1, 28, 28)\n",
    "if use_cuda:\n",
    "    cat = cat.cuda()"
   ]
  },
  {
   "cell_type": "code",
   "execution_count": null,
   "metadata": {
    "id": "qwx2aeyfm4d_"
   },
   "outputs": [],
   "source": [
    "discriminator.eval()\n",
    "with torch.no_grad():\n",
    "    disc_on_cat = discriminator(cat)\n",
    "    \n",
    "cat_np = cat[0].cpu().permute(1, 2, 0).numpy()\n",
    "disc_on_cat_item = disc_on_cat.item()"
   ]
  },
  {
   "cell_type": "code",
   "execution_count": null,
   "metadata": {
    "colab": {
     "base_uri": "https://localhost:8080/",
     "height": 428
    },
    "id": "ebHy-LnVnoK8",
    "outputId": "7e1ffc4f-6114-4a45-f90a-1c9b3cc7908a"
   },
   "outputs": [],
   "source": [
    "plt.imshow(cat_np, interpolation='none', cmap='Greys_r', vmin=-1., vmax=1.);\n",
    "plt.title(f'{disc_on_cat_item:.4f}')\n",
    "plt.xticks([])\n",
    "plt.yticks([]);"
   ]
  },
  {
   "cell_type": "markdown",
   "metadata": {
    "id": "bYe76AVVnx-U"
   },
   "source": [
    "Видим, что дискриминатор считает изображение кота очень правдоподобным. Однако это связано не с тем, что оно действительно существует, а с тем, что в процессе обучения дискриминатор никогда таких изображений не видел и, соответственно, никак не учился с ними работать. А значит, может назначить им любую произвольную вероятность."
   ]
  },
  {
   "cell_type": "code",
   "execution_count": null,
   "metadata": {},
   "outputs": [],
   "source": []
  }
 ],
 "metadata": {
  "colab": {
   "provenance": []
  },
  "kernelspec": {
   "display_name": "Python 3 (ipykernel)",
   "language": "python",
   "name": "python3"
  },
  "language_info": {
   "codemirror_mode": {
    "name": "ipython",
    "version": 3
   },
   "file_extension": ".py",
   "mimetype": "text/x-python",
   "name": "python",
   "nbconvert_exporter": "python",
   "pygments_lexer": "ipython3",
   "version": "3.9.5"
  }
 },
 "nbformat": 4,
 "nbformat_minor": 1
}
