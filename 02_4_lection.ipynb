{
 "cells": [
  {
   "cell_type": "code",
   "execution_count": 2,
   "id": "702a6511",
   "metadata": {},
   "outputs": [
    {
     "name": "stdout",
     "output_type": "stream",
     "text": [
      "1.13.0\n"
     ]
    }
   ],
   "source": [
    "import torch\n",
    "print(torch.__version__)"
   ]
  },
  {
   "cell_type": "markdown",
   "id": "a2c61632",
   "metadata": {
    "cellId": "1tr4wonus9kiqk0r12l5g",
    "execution_id": "19db2102-ad8a-42d8-9ca5-e8280ad668a5"
   },
   "source": [
    "## Функции активации и функции потерь"
   ]
  },
  {
   "cell_type": "code",
   "execution_count": 3,
   "id": "11707c6e",
   "metadata": {
    "cellId": "rqfxadk1x1a7yt1fxb2s39"
   },
   "outputs": [
    {
     "name": "stdout",
     "output_type": "stream",
     "text": [
      "Оригинальный тензор:\n",
      "tensor([ 1.0000, -0.5000,  3.0000, -2.0000])\n",
      "\n",
      "sigmoid:\n",
      "tensor([0.7311, 0.3775, 0.9526, 0.1192])\n",
      "\n",
      "tanh:\n",
      "tensor([ 0.7616, -0.4621,  0.9951, -0.9640])\n",
      "\n",
      "relu:\n",
      "tensor([1., 0., 3., 0.])\n",
      "\n",
      "softmax:\n",
      "tensor([0.1154, 0.0258, 0.8530, 0.0057])\n",
      "\n",
      "log_softmax:\n",
      "tensor([-2.1589, -3.6589, -0.1589, -5.1589])\n"
     ]
    }
   ],
   "source": [
    "# Функции активации\n",
    "vec = torch.tensor([1., -0.5, 3., -2.])\n",
    "\n",
    "print(\n",
    "    f\"Оригинальный тензор:\\n{vec}\",\n",
    "    f\"sigmoid:\\n{torch.sigmoid(vec)}\",\n",
    "    f\"tanh:\\n{torch.tanh(vec)}\",\n",
    "    f\"relu:\\n{torch.relu(vec)}\",\n",
    "    f\"softmax:\\n{torch.softmax(vec, 0)}\",\n",
    "    f\"log_softmax:\\n{torch.log_softmax(vec, 0)}\",\n",
    "    sep=\"\\n\\n\",\n",
    ")"
   ]
  },
  {
   "cell_type": "code",
   "execution_count": 4,
   "id": "2c3162ad",
   "metadata": {
    "cellId": "xp2yb1mdytcj5d4v41bfaf"
   },
   "outputs": [
    {
     "name": "stdout",
     "output_type": "stream",
     "text": [
      "MSE:\n",
      "0.3100000321865082\n",
      "\n",
      "CE с target классами:\n",
      "0.042450178414583206\n",
      "\n",
      "CE с target вероятностями классов:\n",
      "0.042450178414583206\n",
      "\n",
      "NLL с target классами (target вероятностями NLL не умеет):\n",
      "0.31216445565223694\n"
     ]
    }
   ],
   "source": [
    "# Функции потерь\n",
    "y_true_reg = torch.tensor([1., -1., 2.])  \n",
    "y_pred_reg = torch.tensor([0.8, -0.2, 2.5])\n",
    "\n",
    "y_true_clf_class = torch.tensor([0, 2, 1])\n",
    "y_true_clf_probs = torch.tensor([\n",
    "    [1., 0., 0.],\n",
    "    [0., 0., 1.],\n",
    "    [0., 1., 0.],\n",
    "])\n",
    "y_pred_clf_log_probs = torch.tensor([\n",
    "    [0.8, 0.1, 0.1],\n",
    "    [0.4, 0.1, 0.5],\n",
    "    [0., 0.98, 0.02],\n",
    "]).log()\n",
    "y_pred_clf_scores = torch.tensor([\n",
    "    [10., 1., -2.5],\n",
    "    [8., 2., 10.],\n",
    "    [0., 28., 1.],\n",
    "])\n",
    "\n",
    "mse_loss_func = torch.nn.MSELoss()\n",
    "ce_loss_func = torch.nn.CrossEntropyLoss()\n",
    "nll_loss_func = torch.nn.NLLLoss()\n",
    "\n",
    "print(\n",
    "    f\"MSE:\\n{mse_loss_func(y_pred_reg, y_true_reg)}\",\n",
    "    f\"CE с target классами:\\n{ce_loss_func(y_pred_clf_scores, y_true_clf_class)}\",\n",
    "    f\"CE с target вероятностями классов:\\n{ce_loss_func(y_pred_clf_scores, y_true_clf_probs)}\",\n",
    "    f\"NLL с target классами (target вероятностями NLL не умеет):\\n{nll_loss_func(y_pred_clf_log_probs, y_true_clf_class)}\",\n",
    "    sep=\"\\n\\n\",\n",
    ")"
   ]
  },
  {
   "cell_type": "code",
   "execution_count": null,
   "id": "bd7ec750",
   "metadata": {},
   "outputs": [],
   "source": []
  }
 ],
 "metadata": {
  "kernelspec": {
   "display_name": "Python 3 (ipykernel)",
   "language": "python",
   "name": "python3"
  },
  "language_info": {
   "codemirror_mode": {
    "name": "ipython",
    "version": 3
   },
   "file_extension": ".py",
   "mimetype": "text/x-python",
   "name": "python",
   "nbconvert_exporter": "python",
   "pygments_lexer": "ipython3",
   "version": "3.7.16"
  },
  "notebookId": "acb09e64-0f5a-487d-8145-fea4f3cbd3ad",
  "notebookPath": "Sirius/sirius_lecture_2.ipynb"
 },
 "nbformat": 4,
 "nbformat_minor": 5
}
