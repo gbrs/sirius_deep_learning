{
 "cells": [
  {
   "cell_type": "markdown",
   "metadata": {},
   "source": [
    "# Рекуррентные сети в Pytorch"
   ]
  },
  {
   "cell_type": "markdown",
   "metadata": {
    "id": "mRsAkFg39gNa"
   },
   "source": [
    "# Подготовка среды"
   ]
  },
  {
   "cell_type": "code",
   "execution_count": 1,
   "metadata": {
    "colab": {
     "base_uri": "https://localhost:8080/"
    },
    "id": "M9lC1mHFZx3n",
    "outputId": "05a744f3-7d1e-4967-9eee-a8a28aae1236"
   },
   "outputs": [
    {
     "name": "stdout",
     "output_type": "stream",
     "text": [
      "Requirement already satisfied: portalocker in /usr/local/lib/python3.10/dist-packages (2.8.2)\n"
     ]
    }
   ],
   "source": [
    "!pip install portalocker"
   ]
  },
  {
   "cell_type": "code",
   "execution_count": 2,
   "metadata": {
    "id": "dnWo16VI7fIW"
   },
   "outputs": [],
   "source": [
    "from tqdm.auto import tqdm\n",
    "from sklearn.metrics import accuracy_score\n",
    "import matplotlib.pyplot as plt\n",
    "\n",
    "import torch\n",
    "from torch.utils.data import DataLoader\n",
    "from torch import nn\n",
    "from torch.nn import functional as F\n",
    "from torch.optim import Adam\n",
    "\n",
    "import torchtext\n",
    "from torchtext.data import get_tokenizer\n",
    "from torchtext.vocab import build_vocab_from_iterator\n",
    "from torchtext.data.functional import to_map_style_dataset"
   ]
  },
  {
   "cell_type": "code",
   "execution_count": 3,
   "metadata": {
    "id": "t8bHxoWoLoZc"
   },
   "outputs": [],
   "source": [
    "device = torch.device('cuda') if torch.cuda.is_available() else torch.device('cpu')"
   ]
  },
  {
   "cell_type": "markdown",
   "metadata": {
    "id": "_hv-v8bQ9ivy"
   },
   "source": [
    "# Подгрузка данных"
   ]
  },
  {
   "cell_type": "code",
   "execution_count": 4,
   "metadata": {
    "id": "8spcwJ-RZnlo"
   },
   "outputs": [],
   "source": [
    "train_dataset, test_dataset  = torchtext.datasets.AG_NEWS()"
   ]
  },
  {
   "cell_type": "code",
   "execution_count": 5,
   "metadata": {
    "id": "MmRdXlwLAtMV"
   },
   "outputs": [],
   "source": [
    "target_classes = [\"World\", \"Sports\", \"Business\", \"Sci/Tech\"]"
   ]
  },
  {
   "cell_type": "markdown",
   "metadata": {
    "id": "yqCMZLxb9mp5"
   },
   "source": [
    "# Препроцессинг"
   ]
  },
  {
   "cell_type": "markdown",
   "metadata": {
    "id": "rIg2K6WL9pFM"
   },
   "source": [
    "## Токенизация"
   ]
  },
  {
   "cell_type": "code",
   "execution_count": 6,
   "metadata": {
    "id": "js42AofM9Qp8"
   },
   "outputs": [],
   "source": [
    "tokenizer = get_tokenizer(\"basic_english\")"
   ]
  },
  {
   "cell_type": "markdown",
   "metadata": {
    "id": "CJCopqSW9tqM"
   },
   "source": [
    "## Создание словаря"
   ]
  },
  {
   "cell_type": "code",
   "execution_count": 7,
   "metadata": {
    "colab": {
     "base_uri": "https://localhost:8080/"
    },
    "id": "D6-YcnSb7_4R",
    "outputId": "074e7ddb-a1a5-4349-9dd1-eb4c51d66474"
   },
   "outputs": [
    {
     "data": {
      "text/plain": [
       "95811"
      ]
     },
     "execution_count": 7,
     "metadata": {},
     "output_type": "execute_result"
    }
   ],
   "source": [
    "def build_vocabulary(dataset):\n",
    "    for _, text in dataset:\n",
    "        yield tokenizer(text)\n",
    "\n",
    "vocab = build_vocab_from_iterator(\n",
    "    build_vocabulary(train_dataset),\n",
    "    min_freq=1,\n",
    "    specials=[\"<UNK>\"]\n",
    ")\n",
    "\n",
    "vocab.set_default_index(vocab[\"<UNK>\"])\n",
    "\n",
    "len(vocab)"
   ]
  },
  {
   "cell_type": "code",
   "execution_count": 8,
   "metadata": {
    "colab": {
     "base_uri": "https://localhost:8080/"
    },
    "id": "4jxd30298vOq",
    "outputId": "6cf5f301-74be-45cc-ce9d-9b747d61eb2e"
   },
   "outputs": [
    {
     "data": {
      "text/plain": [
       "0"
      ]
     },
     "execution_count": 8,
     "metadata": {},
     "output_type": "execute_result"
    }
   ],
   "source": [
    "vocab[\"<UNK>\"]"
   ]
  },
  {
   "cell_type": "code",
   "execution_count": 9,
   "metadata": {
    "colab": {
     "base_uri": "https://localhost:8080/"
    },
    "id": "-hOe6sQY8wYM",
    "outputId": "6c9d944d-a0cc-4dd3-e558-913a3c5802f5"
   },
   "outputs": [
    {
     "data": {
      "text/plain": [
       "[0]"
      ]
     },
     "execution_count": 9,
     "metadata": {},
     "output_type": "execute_result"
    }
   ],
   "source": [
    "vocab(['Kolbasa'])"
   ]
  },
  {
   "cell_type": "markdown",
   "metadata": {
    "id": "9qXyM4u69zl8"
   },
   "source": [
    "## Создание Dataset, Dataloader"
   ]
  },
  {
   "cell_type": "code",
   "execution_count": 10,
   "metadata": {
    "id": "gpxbEhOu-QQf"
   },
   "outputs": [],
   "source": [
    "train_dataset, test_dataset  = to_map_style_dataset(train_dataset), to_map_style_dataset(test_dataset)"
   ]
  },
  {
   "cell_type": "code",
   "execution_count": 11,
   "metadata": {
    "colab": {
     "base_uri": "https://localhost:8080/"
    },
    "id": "leq35sW6dFJ4",
    "outputId": "c9f3a471-8eda-4dc8-da41-e62f06ef40db"
   },
   "outputs": [
    {
     "name": "stdout",
     "output_type": "stream",
     "text": [
      "text: Wall St. Bears Claw Back Into the Black (Reuters) Reuters - Short-sellers, Wall Street's dwindling\\band of ultra-cynics, are seeing green again.\n",
      "label: 3\n"
     ]
    }
   ],
   "source": [
    "y, x = train_dataset[0]\n",
    "\n",
    "print('text:', x)\n",
    "print('label:', y)"
   ]
  },
  {
   "cell_type": "code",
   "execution_count": 12,
   "metadata": {
    "colab": {
     "base_uri": "https://localhost:8080/"
    },
    "id": "UK-bHAYDdwx1",
    "outputId": "2b875fd5-a5c5-4a06-8d50-f41cb6331e78"
   },
   "outputs": [
    {
     "name": "stdout",
     "output_type": "stream",
     "text": [
      "text: Nets get Carter from Raptors INDIANAPOLIS -- All-Star Vince Carter was traded by the Toronto Raptors to the New Jersey Nets for Alonzo Mourning, Eric Williams, Aaron Williams, and a pair of first-round draft picks yesterday.\n",
      "label: 2\n"
     ]
    }
   ],
   "source": [
    "y, x = train_dataset[-1]\n",
    "\n",
    "print('text:', x)\n",
    "print('label:', y)"
   ]
  },
  {
   "cell_type": "code",
   "execution_count": 13,
   "metadata": {
    "id": "p097hHmc-MAv"
   },
   "outputs": [],
   "source": [
    "max_words = 25\n",
    "\n",
    "def add_padding(tokens):\n",
    "    if len(tokens) < max_words:\n",
    "        n_pad_tokens = max_words - len(tokens)\n",
    "        return tokens + ([0] * n_pad_tokens)\n",
    "    else:\n",
    "        return tokens[:max_words]\n",
    "\n",
    "\n",
    "def vectorize_batch(batch):\n",
    "    y, X = list(zip(*batch)) # разбиваем батч на X и Y\n",
    "\n",
    "    X = [vocab(tokenizer(text)) for text in X] ## Токенизация и кодирование\n",
    "    X = [add_padding(tokens) for tokens in X] # приводим батч к единому размеру\n",
    "\n",
    "    y_tensor = torch.tensor(y) - 1\n",
    "    X_tensor = torch.tensor(X, dtype=torch.int32)\n",
    "\n",
    "    return X_tensor, y_tensor"
   ]
  },
  {
   "cell_type": "code",
   "execution_count": 14,
   "metadata": {
    "id": "iNHDl5i_-PNZ"
   },
   "outputs": [],
   "source": [
    "batch_size = 512\n",
    "\n",
    "train_loader = DataLoader(train_dataset, batch_size=batch_size, collate_fn=vectorize_batch, shuffle=True)\n",
    "test_loader  = DataLoader(test_dataset , batch_size=batch_size, collate_fn=vectorize_batch)"
   ]
  },
  {
   "cell_type": "code",
   "execution_count": 15,
   "metadata": {
    "colab": {
     "base_uri": "https://localhost:8080/"
    },
    "id": "boJiQy0FCIF7",
    "outputId": "2a01e534-376e-4755-d8d4-c4b961030ff4"
   },
   "outputs": [
    {
     "data": {
      "text/plain": [
       "(torch.Size([512, 25]), torch.Size([512]))"
      ]
     },
     "execution_count": 15,
     "metadata": {},
     "output_type": "execute_result"
    }
   ],
   "source": [
    "X_sample, y_sample = next(iter(train_loader))\n",
    "X_sample.shape, y_sample.shape"
   ]
  },
  {
   "cell_type": "code",
   "execution_count": 16,
   "metadata": {
    "colab": {
     "base_uri": "https://localhost:8080/"
    },
    "id": "hc5vSamUCnAd",
    "outputId": "71144171-d5b6-4cd2-a5c4-6c2570846e44"
   },
   "outputs": [
    {
     "name": "stdout",
     "output_type": "stream",
     "text": [
      "tensor([ 8122,    38,  1586,     3,  1050, 13540,     4,  2970,  3697,     2,\n",
      "           88,   159,     8,     2,   168,   278,   189,    40,   555,    38,\n",
      "          771,  3897,     4,     2,    50], dtype=torch.int32)\n"
     ]
    }
   ],
   "source": [
    "print(X_sample[0])"
   ]
  },
  {
   "cell_type": "code",
   "execution_count": 17,
   "metadata": {
    "colab": {
     "base_uri": "https://localhost:8080/"
    },
    "id": "L1aFRvL2Cs38",
    "outputId": "980ce1a1-cfe5-4f56-d717-e8b620303986"
   },
   "outputs": [
    {
     "name": "stdout",
     "output_type": "stream",
     "text": [
      "tensor(2)\n"
     ]
    }
   ],
   "source": [
    "print(y_sample[0])"
   ]
  },
  {
   "cell_type": "markdown",
   "metadata": {
    "id": "vnwXDZW0AxGc"
   },
   "source": [
    "# Обучение модели"
   ]
  },
  {
   "cell_type": "markdown",
   "metadata": {
    "id": "GvN_rbSCWF7x"
   },
   "source": [
    "## Полезные функции"
   ]
  },
  {
   "cell_type": "code",
   "execution_count": 18,
   "metadata": {
    "id": "SJKsKu3CZ-l5"
   },
   "outputs": [],
   "source": [
    "def train_step(model, criterion, optimizer, dataloader):\n",
    "    y_true, y_preds, losses = [], [], []\n",
    "    for X, y in dataloader:\n",
    "        X = X.to(device)\n",
    "        y = y.to(device)\n",
    "\n",
    "        y_pred = model(X) # делаем предсказание\n",
    "        loss = criterion(y_pred, y) # рассчитаем Loss\n",
    "        loss.backward() ## рассчитываем градиент\n",
    "\n",
    "        optimizer.step() ## меняем веса модели\n",
    "        optimizer.zero_grad() # обнуляем градиент оптимизатора\n",
    "\n",
    "        losses.append(loss.detach().cpu().item())\n",
    "        y_true.append(y)\n",
    "        y_preds.append(y_pred.argmax(dim=-1))\n",
    "\n",
    "    y_true = torch.cat(y_true).detach().cpu().numpy()\n",
    "    y_preds = torch.cat(y_preds).detach().cpu().numpy()\n",
    "\n",
    "    loss_mean = torch.tensor(losses).mean()\n",
    "    metric = accuracy_score(y_true, y_preds)\n",
    "\n",
    "    return loss_mean, metric\n",
    "\n",
    "def valid_step(model, criterion, dataloader):\n",
    "    with torch.no_grad():\n",
    "        y_true, y_preds, losses = [], [], []\n",
    "        for X, y in dataloader:\n",
    "            X = X.to(device)\n",
    "            y = y.to(device)\n",
    "\n",
    "            y_pred = model(X)\n",
    "            loss = criterion(y_pred, y)\n",
    "            losses.append(loss.detach().cpu().item())\n",
    "\n",
    "            y_true.append(y)\n",
    "            y_preds.append(y_pred.argmax(dim=-1))\n",
    "\n",
    "        y_true = torch.cat(y_true).detach().cpu().numpy()\n",
    "        y_preds = torch.cat(y_preds).detach().cpu().numpy()\n",
    "\n",
    "        loss_mean = torch.tensor(losses).mean()\n",
    "        metric = accuracy_score(y_true, y_preds)\n",
    "\n",
    "        return loss_mean, metric\n",
    "\n",
    "def train_procedure(model, criterion, optimizer, train_loader, val_loader, epochs=10):\n",
    "    train_losses, train_metrics, valid_losses, valid_metrics = [], [], [], []\n",
    "    for epoch in tqdm(range(1, epochs + 1)):\n",
    "        train_loss, train_metric = train_step(model, criterion, optimizer, train_loader)\n",
    "        valid_loss, valid_metric = valid_step(model, criterion, val_loader)\n",
    "\n",
    "        print(\"Epoch: {}\".format(epoch))\n",
    "        print(\"Train Loss : {:.3f}\".format(train_loss))\n",
    "        print(\"Train Acc  : {:.3f}\".format(train_metric))\n",
    "        print(\"Val Loss : {:.3f}\".format(valid_loss))\n",
    "        print(\"Val Acc  : {:.3f}\".format(valid_metric))\n",
    "\n",
    "        train_losses.append(train_loss)\n",
    "        train_metrics.append(train_metric)\n",
    "        valid_losses.append(valid_loss)\n",
    "        valid_metrics.append(valid_metric)\n",
    "    return train_losses, train_metrics, valid_losses, valid_metrics\n"
   ]
  },
  {
   "cell_type": "code",
   "execution_count": 19,
   "metadata": {
    "id": "T5sd5gFIRGfx"
   },
   "outputs": [],
   "source": [
    "def draw_plots(train_losses, train_metrics, valid_losses, valid_metrics):\n",
    "    epoches = torch.arange(len(train_losses)) + 1\n",
    "    plt.figure(figsize=(10, 4))\n",
    "    plt.subplot(1, 2, 1)\n",
    "    plt.plot(epoches, train_losses, label='train_loss', marker='o')\n",
    "    plt.plot(epoches, valid_losses, label='valid_loss', marker='v')\n",
    "    plt.legend()\n",
    "    plt.xlabel('эпохи')\n",
    "    plt.ylabel('loss')\n",
    "    plt.grid()\n",
    "\n",
    "\n",
    "    plt.subplot(1, 2, 2)\n",
    "    plt.plot(epoches, train_metrics, label='train_accuracy', marker='o')\n",
    "    plt.plot(epoches, valid_metrics, label='valid_accuracy', marker='v')\n",
    "    plt.legend()\n",
    "    plt.xlabel('эпохи')\n",
    "    plt.ylabel('accuracy')\n",
    "    plt.grid()\n",
    "\n",
    "    plt.show()"
   ]
  },
  {
   "cell_type": "markdown",
   "metadata": {
    "id": "GnHMQaqUYpVo"
   },
   "source": [
    "## RNN"
   ]
  },
  {
   "cell_type": "code",
   "execution_count": 20,
   "metadata": {
    "id": "_QsNxECVZwfQ"
   },
   "outputs": [],
   "source": [
    "class RNN(nn.Module):\n",
    "    def __init__(self, vocab_size, n_classes, embed_size=64, hidden_dim=64):\n",
    "        super(RNN, self).__init__()\n",
    "\n",
    "        self.hidden_dim = hidden_dim\n",
    "\n",
    "        self.embedding_layer = nn.Embedding(num_embeddings=vocab_size, embedding_dim=embed_size)\n",
    "        self.rnn = nn.RNN(input_size=embed_size, hidden_size=hidden_dim, batch_first=True)\n",
    "        self.linear = nn.Linear(hidden_dim, n_classes)\n",
    "\n",
    "    def init_hidden_state(self, batch_size, device):\n",
    "        h = torch.randn(1, batch_size, self.hidden_dim).to(device)\n",
    "        return h\n",
    "\n",
    "    def forward(self, X_batch):\n",
    "\n",
    "        embeddings = self.embedding_layer(X_batch)\n",
    "        device = X_batch.device\n",
    "        h = self.init_hidden_state(batch_size=len(X_batch), device=device)\n",
    "        output, h = self.rnn(embeddings, h)\n",
    "        predict = self.linear(h.squeeze(0))\n",
    "        return predict"
   ]
  },
  {
   "cell_type": "code",
   "execution_count": 21,
   "metadata": {
    "colab": {
     "base_uri": "https://localhost:8080/"
    },
    "id": "CsBQPVvAaomJ",
    "outputId": "cdcb7d4b-7c46-458c-f674-9df49d9ad75d"
   },
   "outputs": [
    {
     "data": {
      "text/plain": [
       "RNN(\n",
       "  (embedding_layer): Embedding(95811, 64)\n",
       "  (rnn): RNN(64, 64, batch_first=True)\n",
       "  (linear): Linear(in_features=64, out_features=4, bias=True)\n",
       ")"
      ]
     },
     "execution_count": 21,
     "metadata": {},
     "output_type": "execute_result"
    }
   ],
   "source": [
    "rnn_model = RNN(vocab_size=len(vocab), n_classes=4)\n",
    "rnn_model = rnn_model.to(device)\n",
    "rnn_model"
   ]
  },
  {
   "cell_type": "code",
   "execution_count": 22,
   "metadata": {
    "colab": {
     "base_uri": "https://localhost:8080/",
     "height": 411,
     "referenced_widgets": [
      "3a51836586734e5393a29321fd7ebd91",
      "637e0b6e279e44e0b849358f60f48eac",
      "3dc4a9dc0fe84f0e9c997248910bc409",
      "579ec3ff023243d6b9486a82cb427826",
      "564522b6257843019c68f45ca9fc8c75",
      "2feab03cf67b42d0ab2126e0f415e15d",
      "16b769bbd69f443c88adb914bda9e8bf",
      "191a2247c43f4658a64155d354b6cb2e",
      "18296e5ffbd54bbbb4a673790902123f",
      "faeb53ee9ac8414aa8e26efed269c318",
      "76beca3010ce4232ac17f252a18aacb5"
     ]
    },
    "id": "PMOFPPA6aowG",
    "outputId": "25520301-0557-42ae-b771-d1a43789521d"
   },
   "outputs": [
    {
     "data": {
      "application/vnd.jupyter.widget-view+json": {
       "model_id": "3a51836586734e5393a29321fd7ebd91",
       "version_major": 2,
       "version_minor": 0
      },
      "text/plain": [
       "  0%|          | 0/4 [00:00<?, ?it/s]"
      ]
     },
     "metadata": {},
     "output_type": "display_data"
    },
    {
     "name": "stdout",
     "output_type": "stream",
     "text": [
      "Epoch: 1\n",
      "Train Loss : 1.149\n",
      "Train Acc  : 0.467\n",
      "Val Loss : 0.821\n",
      "Val Acc  : 0.670\n",
      "Epoch: 2\n",
      "Train Loss : 0.662\n",
      "Train Acc  : 0.750\n",
      "Val Loss : 0.577\n",
      "Val Acc  : 0.788\n",
      "Epoch: 3\n",
      "Train Loss : 0.489\n",
      "Train Acc  : 0.827\n",
      "Val Loss : 0.498\n",
      "Val Acc  : 0.827\n",
      "Epoch: 4\n",
      "Train Loss : 0.408\n",
      "Train Acc  : 0.861\n",
      "Val Loss : 0.440\n",
      "Val Acc  : 0.850\n"
     ]
    }
   ],
   "source": [
    "epochs = 4\n",
    "learning_rate = 1e-3\n",
    "criterion = nn.CrossEntropyLoss()\n",
    "optimizer = Adam(rnn_model.parameters(), lr=learning_rate)\n",
    "\n",
    "logges = train_procedure(rnn_model, criterion, optimizer, train_loader, test_loader, epochs)"
   ]
  },
  {
   "cell_type": "code",
   "execution_count": 23,
   "metadata": {
    "colab": {
     "base_uri": "https://localhost:8080/",
     "height": 388
    },
    "id": "JZQsSS7EapFD",
    "outputId": "af95dbcf-135a-43cc-c3fd-1c9de1a6ff63"
   },
   "outputs": [
    {
     "data": {
      "image/png": "[encoded data removed]",
      "text/plain": [
       "<Figure size 1000x400 with 2 Axes>"
      ]
     },
     "metadata": {},
     "output_type": "display_data"
    }
   ],
   "source": [
    "train_losses, train_metrics, valid_losses, valid_metrics = logges\n",
    "draw_plots(train_losses, train_metrics, valid_losses, valid_metrics)"
   ]
  },
  {
   "cell_type": "markdown",
   "metadata": {
    "id": "m7pv00YHWLDr"
   },
   "source": [
    "## LSTM"
   ]
  },
  {
   "cell_type": "code",
   "execution_count": 24,
   "metadata": {
    "id": "pNX4_aKyZ-gB"
   },
   "outputs": [],
   "source": [
    "class LSTM(nn.Module):\n",
    "    def __init__(self, vocab_size, n_classes, embed_size=64, hidden_dim=64):\n",
    "        super(LSTM, self).__init__()\n",
    "\n",
    "        self.hidden_dim = hidden_dim\n",
    "\n",
    "        self.embedding_layer = nn.Embedding(num_embeddings=vocab_size, embedding_dim=embed_size)\n",
    "        self.lstm = nn.LSTM(input_size=embed_size, hidden_size=hidden_dim, batch_first=True)\n",
    "        self.linear = nn.Linear(hidden_dim, n_classes)\n",
    "\n",
    "    def init_hidden_state(self, batch_size, device):\n",
    "        h = torch.randn(1, batch_size, self.hidden_dim).to(device)\n",
    "        c = torch.randn(1, batch_size, self.hidden_dim).to(device)\n",
    "        return h, c\n",
    "\n",
    "    def forward(self, X_batch):\n",
    "\n",
    "        embeddings = self.embedding_layer(X_batch)\n",
    "        device = X_batch.device\n",
    "        h, c = self.init_hidden_state(batch_size=len(X_batch), device=device)\n",
    "        output, (h, c) = self.lstm(embeddings, (h, c))\n",
    "        predict = self.linear(h.squeeze(0))\n",
    "        return predict"
   ]
  },
  {
   "cell_type": "code",
   "execution_count": 25,
   "metadata": {
    "colab": {
     "base_uri": "https://localhost:8080/"
    },
    "id": "OaTRkDT8Z-is",
    "outputId": "d0b1a98a-e181-497d-c497-bdb345caa234"
   },
   "outputs": [
    {
     "data": {
      "text/plain": [
       "LSTM(\n",
       "  (embedding_layer): Embedding(95811, 64)\n",
       "  (lstm): LSTM(64, 64, batch_first=True)\n",
       "  (linear): Linear(in_features=64, out_features=4, bias=True)\n",
       ")"
      ]
     },
     "execution_count": 25,
     "metadata": {},
     "output_type": "execute_result"
    }
   ],
   "source": [
    "lstm_model = LSTM(vocab_size=len(vocab), n_classes=4)\n",
    "lstm_model = lstm_model.to(device)\n",
    "lstm_model"
   ]
  },
  {
   "cell_type": "code",
   "execution_count": 26,
   "metadata": {
    "colab": {
     "base_uri": "https://localhost:8080/",
     "height": 411,
     "referenced_widgets": [
      "b62c1a40f220461f9793a7c251b9af11",
      "d436db0847cc40ec8bde940d076a8556",
      "779a261dcc8242ebb07709d672c27090",
      "c44775d2a8d84087bae430316af2cb66",
      "f8507256fde045599d91363f6e35ac4e",
      "b35b5877c4f44779969402d006b3ce4f",
      "4fc08f1fd78b4b0e909e419b0bfffea6",
      "30c8449b739c456a8bef21c545331238",
      "fa18d24fdf72453295f149a263cf6e97",
      "b40b50d8362b4dd19f512ca39aee3067",
      "f22bfca3cdcb4533800a8f71c713452c"
     ]
    },
    "id": "wzZ_oTasZ-o8",
    "outputId": "7b47e725-6e18-4841-b3ab-3f53f054cc9b"
   },
   "outputs": [
    {
     "data": {
      "application/vnd.jupyter.widget-view+json": {
       "model_id": "b62c1a40f220461f9793a7c251b9af11",
       "version_major": 2,
       "version_minor": 0
      },
      "text/plain": [
       "  0%|          | 0/4 [00:00<?, ?it/s]"
      ]
     },
     "metadata": {},
     "output_type": "display_data"
    },
    {
     "name": "stdout",
     "output_type": "stream",
     "text": [
      "Epoch: 1\n",
      "Train Loss : 0.991\n",
      "Train Acc  : 0.567\n",
      "Val Loss : 0.623\n",
      "Val Acc  : 0.768\n",
      "Epoch: 2\n",
      "Train Loss : 0.500\n",
      "Train Acc  : 0.819\n",
      "Val Loss : 0.463\n",
      "Val Acc  : 0.838\n",
      "Epoch: 3\n",
      "Train Loss : 0.379\n",
      "Train Acc  : 0.867\n",
      "Val Loss : 0.419\n",
      "Val Acc  : 0.850\n",
      "Epoch: 4\n",
      "Train Loss : 0.317\n",
      "Train Acc  : 0.890\n",
      "Val Loss : 0.379\n",
      "Val Acc  : 0.867\n"
     ]
    }
   ],
   "source": [
    "epochs = 4\n",
    "learning_rate = 1e-3\n",
    "criterion = nn.CrossEntropyLoss()\n",
    "optimizer = Adam(lstm_model.parameters(), lr=learning_rate)\n",
    "\n",
    "logges = train_procedure(lstm_model, criterion, optimizer, train_loader, test_loader, epochs)"
   ]
  },
  {
   "cell_type": "code",
   "execution_count": 27,
   "metadata": {
    "colab": {
     "base_uri": "https://localhost:8080/",
     "height": 388
    },
    "id": "SeY_ZNmqRBD4",
    "outputId": "a5272edb-a983-4a31-992d-c33ee24aed94"
   },
   "outputs": [
    {
     "data": {
      "image/png": "[encoded data removed]",
      "text/plain": [
       "<Figure size 1000x400 with 2 Axes>"
      ]
     },
     "metadata": {},
     "output_type": "display_data"
    }
   ],
   "source": [
    "train_losses, train_metrics, valid_losses, valid_metrics = logges\n",
    "draw_plots(train_losses, train_metrics, valid_losses, valid_metrics)"
   ]
  },
  {
   "cell_type": "markdown",
   "metadata": {
    "id": "ydBeFgiDbgdG"
   },
   "source": [
    "## BiLSTM"
   ]
  },
  {
   "cell_type": "code",
   "execution_count": 28,
   "metadata": {
    "id": "bkmxvUnhbgdH"
   },
   "outputs": [],
   "source": [
    "class BiLSTM(nn.Module):\n",
    "    def __init__(self, vocab_size, n_classes, embed_size=64, hidden_dim=64):\n",
    "        super(BiLSTM, self).__init__()\n",
    "\n",
    "        self.hidden_dim = hidden_dim\n",
    "\n",
    "        self.embedding_layer = nn.Embedding(num_embeddings=vocab_size, embedding_dim=embed_size)\n",
    "        self.lstm = nn.LSTM(input_size=embed_size, hidden_size=hidden_dim, batch_first=True, bidirectional=True)\n",
    "        self.linear = nn.Linear(hidden_dim * 2, n_classes)\n",
    "\n",
    "    def init_hidden_state(self, batch_size, device):\n",
    "        h = torch.randn(2, batch_size, self.hidden_dim).to(device)\n",
    "        c = torch.randn(2, batch_size, self.hidden_dim).to(device)\n",
    "        return h, c\n",
    "\n",
    "    def forward(self, X_batch):\n",
    "        embeddings = self.embedding_layer(X_batch)\n",
    "        device = X_batch.device\n",
    "        h, c = self.init_hidden_state(batch_size=len(X_batch), device=device)\n",
    "        output, (h, c) = self.lstm(embeddings, (h, c))\n",
    "        linear_in = h.transpose(0, 1).reshape(len(X_batch), 2 * self.hidden_dim)\n",
    "        predict = self.linear(linear_in)\n",
    "        return predict"
   ]
  },
  {
   "cell_type": "code",
   "execution_count": 29,
   "metadata": {
    "colab": {
     "base_uri": "https://localhost:8080/"
    },
    "id": "tl23GVAJbgdI",
    "outputId": "986cc830-b9bb-4bf2-9c14-da5922c03a0d"
   },
   "outputs": [
    {
     "data": {
      "text/plain": [
       "BiLSTM(\n",
       "  (embedding_layer): Embedding(95811, 64)\n",
       "  (lstm): LSTM(64, 64, batch_first=True, bidirectional=True)\n",
       "  (linear): Linear(in_features=128, out_features=4, bias=True)\n",
       ")"
      ]
     },
     "execution_count": 29,
     "metadata": {},
     "output_type": "execute_result"
    }
   ],
   "source": [
    "bilstm_model = BiLSTM(vocab_size=len(vocab), n_classes=4)\n",
    "bilstm_model = bilstm_model.to(device)\n",
    "bilstm_model"
   ]
  },
  {
   "cell_type": "code",
   "execution_count": 30,
   "metadata": {
    "colab": {
     "base_uri": "https://localhost:8080/",
     "height": 411,
     "referenced_widgets": [
      "61db03db39fd495ab70987fdb349dd00",
      "95a98a6e82c54738a2e22b6bd8b91711",
      "06105e07a44642bdb4f1b8a6d69bb8c2",
      "ac47af1cf4b848acacefc6026cce2738",
      "24900ffc1ede4d999591112836a27c27",
      "a24e56c257454660a92ba7f24a331da8",
      "1e8524ee535f42dd8a5667c6e462ad96",
      "269ad830cd8e4a66b1de6c12dc91cfd3",
      "3b0f3eed20f1469c92b0c58afc56aeec",
      "0e990e62e57e4960a413e2fcadb1b50e",
      "e3ca700115074e24a79046b3d0bb1b15"
     ]
    },
    "id": "02yHX2rUbgdK",
    "outputId": "5b5323f8-9b41-4334-ee98-2a61528c86d4"
   },
   "outputs": [
    {
     "data": {
      "application/vnd.jupyter.widget-view+json": {
       "model_id": "61db03db39fd495ab70987fdb349dd00",
       "version_major": 2,
       "version_minor": 0
      },
      "text/plain": [
       "  0%|          | 0/4 [00:00<?, ?it/s]"
      ]
     },
     "metadata": {},
     "output_type": "display_data"
    },
    {
     "name": "stdout",
     "output_type": "stream",
     "text": [
      "Epoch: 1\n",
      "Train Loss : 0.905\n",
      "Train Acc  : 0.622\n",
      "Val Loss : 0.547\n",
      "Val Acc  : 0.799\n",
      "Epoch: 2\n",
      "Train Loss : 0.440\n",
      "Train Acc  : 0.842\n",
      "Val Loss : 0.405\n",
      "Val Acc  : 0.859\n",
      "Epoch: 3\n",
      "Train Loss : 0.331\n",
      "Train Acc  : 0.883\n",
      "Val Loss : 0.359\n",
      "Val Acc  : 0.872\n",
      "Epoch: 4\n",
      "Train Loss : 0.270\n",
      "Train Acc  : 0.906\n",
      "Val Loss : 0.341\n",
      "Val Acc  : 0.880\n"
     ]
    }
   ],
   "source": [
    "epochs = 4\n",
    "learning_rate = 1e-3\n",
    "criterion = nn.CrossEntropyLoss()\n",
    "optimizer = Adam(bilstm_model.parameters(), lr=learning_rate)\n",
    "\n",
    "logges = train_procedure(bilstm_model, criterion, optimizer, train_loader, test_loader, epochs)"
   ]
  },
  {
   "cell_type": "code",
   "execution_count": 31,
   "metadata": {
    "colab": {
     "base_uri": "https://localhost:8080/",
     "height": 388
    },
    "id": "D_eD64kbbgdL",
    "outputId": "b2c6ffc5-0801-415a-8f29-6bf10f74535b"
   },
   "outputs": [
    {
     "data": {
      "image/png": "[encoded data removed]",
      "text/plain": [
       "<Figure size 1000x400 with 2 Axes>"
      ]
     },
     "metadata": {},
     "output_type": "display_data"
    }
   ],
   "source": [
    "train_losses, train_metrics, valid_losses, valid_metrics = logges\n",
    "draw_plots(train_losses, train_metrics, valid_losses, valid_metrics)"
   ]
  },
  {
   "cell_type": "code",
   "execution_count": 31,
   "metadata": {
    "id": "nranRL0jcJ8m"
   },
   "outputs": [],
   "source": []
  }
 ],
 "metadata": {
  "accelerator": "GPU",
  "colab": {
   "gpuType": "T4",
   "provenance": []
  },
  "kernelspec": {
   "display_name": "Python 3",
   "language": "python",
   "name": "python3"
  },
  "language_info": {
   "codemirror_mode": {
    "name": "ipython",
    "version": 3
   },
   "file_extension": ".py",
   "mimetype": "text/x-python",
   "name": "python",
   "nbconvert_exporter": "python",
   "pygments_lexer": "ipython3",
   "version": "3.8.8"
  },
  "widgets": {
   "application/vnd.jupyter.widget-state+json": {
    "06105e07a44642bdb4f1b8a6d69bb8c2": {
     "model_module": "@jupyter-widgets/controls",
     "model_module_version": "1.5.0",
     "model_name": "FloatProgressModel",
     "state": {
      "_dom_classes": [],
      "_model_module": "@jupyter-widgets/controls",
      "_model_module_version": "1.5.0",
      "_model_name": "FloatProgressModel",
      "_view_count": null,
      "_view_module": "@jupyter-widgets/controls",
      "_view_module_version": "1.5.0",
      "_view_name": "ProgressView",
      "bar_style": "success",
      "description": "",
      "description_tooltip": null,
      "layout": "IPY_MODEL_269ad830cd8e4a66b1de6c12dc91cfd3",
      "max": 4,
      "min": 0,
      "orientation": "horizontal",
      "style": "IPY_MODEL_3b0f3eed20f1469c92b0c58afc56aeec",
      "value": 4
     }
    },
    "0e990e62e57e4960a413e2fcadb1b50e": {
     "model_module": "@jupyter-widgets/base",
     "model_module_version": "1.2.0",
     "model_name": "LayoutModel",
     "state": {
      "_model_module": "@jupyter-widgets/base",
      "_model_module_version": "1.2.0",
      "_model_name": "LayoutModel",
      "_view_count": null,
      "_view_module": "@jupyter-widgets/base",
      "_view_module_version": "1.2.0",
      "_view_name": "LayoutView",
      "align_content": null,
      "align_items": null,
      "align_self": null,
      "border": null,
      "bottom": null,
      "display": null,
      "flex": null,
      "flex_flow": null,
      "grid_area": null,
      "grid_auto_columns": null,
      "grid_auto_flow": null,
      "grid_auto_rows": null,
      "grid_column": null,
      "grid_gap": null,
      "grid_row": null,
      "grid_template_areas": null,
      "grid_template_columns": null,
      "grid_template_rows": null,
      "height": null,
      "justify_content": null,
      "justify_items": null,
      "left": null,
      "margin": null,
      "max_height": null,
      "max_width": null,
      "min_height": null,
      "min_width": null,
      "object_fit": null,
      "object_position": null,
      "order": null,
      "overflow": null,
      "overflow_x": null,
      "overflow_y": null,
      "padding": null,
      "right": null,
      "top": null,
      "visibility": null,
      "width": null
     }
    },
    "16b769bbd69f443c88adb914bda9e8bf": {
     "model_module": "@jupyter-widgets/controls",
     "model_module_version": "1.5.0",
     "model_name": "DescriptionStyleModel",
     "state": {
      "_model_module": "@jupyter-widgets/controls",
      "_model_module_version": "1.5.0",
      "_model_name": "DescriptionStyleModel",
      "_view_count": null,
      "_view_module": "@jupyter-widgets/base",
      "_view_module_version": "1.2.0",
      "_view_name": "StyleView",
      "description_width": ""
     }
    },
    "18296e5ffbd54bbbb4a673790902123f": {
     "model_module": "@jupyter-widgets/controls",
     "model_module_version": "1.5.0",
     "model_name": "ProgressStyleModel",
     "state": {
      "_model_module": "@jupyter-widgets/controls",
      "_model_module_version": "1.5.0",
      "_model_name": "ProgressStyleModel",
      "_view_count": null,
      "_view_module": "@jupyter-widgets/base",
      "_view_module_version": "1.2.0",
      "_view_name": "StyleView",
      "bar_color": null,
      "description_width": ""
     }
    },
    "191a2247c43f4658a64155d354b6cb2e": {
     "model_module": "@jupyter-widgets/base",
     "model_module_version": "1.2.0",
     "model_name": "LayoutModel",
     "state": {
      "_model_module": "@jupyter-widgets/base",
      "_model_module_version": "1.2.0",
      "_model_name": "LayoutModel",
      "_view_count": null,
      "_view_module": "@jupyter-widgets/base",
      "_view_module_version": "1.2.0",
      "_view_name": "LayoutView",
      "align_content": null,
      "align_items": null,
      "align_self": null,
      "border": null,
      "bottom": null,
      "display": null,
      "flex": null,
      "flex_flow": null,
      "grid_area": null,
      "grid_auto_columns": null,
      "grid_auto_flow": null,
      "grid_auto_rows": null,
      "grid_column": null,
      "grid_gap": null,
      "grid_row": null,
      "grid_template_areas": null,
      "grid_template_columns": null,
      "grid_template_rows": null,
      "height": null,
      "justify_content": null,
      "justify_items": null,
      "left": null,
      "margin": null,
      "max_height": null,
      "max_width": null,
      "min_height": null,
      "min_width": null,
      "object_fit": null,
      "object_position": null,
      "order": null,
      "overflow": null,
      "overflow_x": null,
      "overflow_y": null,
      "padding": null,
      "right": null,
      "top": null,
      "visibility": null,
      "width": null
     }
    },
    "1e8524ee535f42dd8a5667c6e462ad96": {
     "model_module": "@jupyter-widgets/controls",
     "model_module_version": "1.5.0",
     "model_name": "DescriptionStyleModel",
     "state": {
      "_model_module": "@jupyter-widgets/controls",
      "_model_module_version": "1.5.0",
      "_model_name": "DescriptionStyleModel",
      "_view_count": null,
      "_view_module": "@jupyter-widgets/base",
      "_view_module_version": "1.2.0",
      "_view_name": "StyleView",
      "description_width": ""
     }
    },
    "24900ffc1ede4d999591112836a27c27": {
     "model_module": "@jupyter-widgets/base",
     "model_module_version": "1.2.0",
     "model_name": "LayoutModel",
     "state": {
      "_model_module": "@jupyter-widgets/base",
      "_model_module_version": "1.2.0",
      "_model_name": "LayoutModel",
      "_view_count": null,
      "_view_module": "@jupyter-widgets/base",
      "_view_module_version": "1.2.0",
      "_view_name": "LayoutView",
      "align_content": null,
      "align_items": null,
      "align_self": null,
      "border": null,
      "bottom": null,
      "display": null,
      "flex": null,
      "flex_flow": null,
      "grid_area": null,
      "grid_auto_columns": null,
      "grid_auto_flow": null,
      "grid_auto_rows": null,
      "grid_column": null,
      "grid_gap": null,
      "grid_row": null,
      "grid_template_areas": null,
      "grid_template_columns": null,
      "grid_template_rows": null,
      "height": null,
      "justify_content": null,
      "justify_items": null,
      "left": null,
      "margin": null,
      "max_height": null,
      "max_width": null,
      "min_height": null,
      "min_width": null,
      "object_fit": null,
      "object_position": null,
      "order": null,
      "overflow": null,
      "overflow_x": null,
      "overflow_y": null,
      "padding": null,
      "right": null,
      "top": null,
      "visibility": null,
      "width": null
     }
    },
    "269ad830cd8e4a66b1de6c12dc91cfd3": {
     "model_module": "@jupyter-widgets/base",
     "model_module_version": "1.2.0",
     "model_name": "LayoutModel",
     "state": {
      "_model_module": "@jupyter-widgets/base",
      "_model_module_version": "1.2.0",
      "_model_name": "LayoutModel",
      "_view_count": null,
      "_view_module": "@jupyter-widgets/base",
      "_view_module_version": "1.2.0",
      "_view_name": "LayoutView",
      "align_content": null,
      "align_items": null,
      "align_self": null,
      "border": null,
      "bottom": null,
      "display": null,
      "flex": null,
      "flex_flow": null,
      "grid_area": null,
      "grid_auto_columns": null,
      "grid_auto_flow": null,
      "grid_auto_rows": null,
      "grid_column": null,
      "grid_gap": null,
      "grid_row": null,
      "grid_template_areas": null,
      "grid_template_columns": null,
      "grid_template_rows": null,
      "height": null,
      "justify_content": null,
      "justify_items": null,
      "left": null,
      "margin": null,
      "max_height": null,
      "max_width": null,
      "min_height": null,
      "min_width": null,
      "object_fit": null,
      "object_position": null,
      "order": null,
      "overflow": null,
      "overflow_x": null,
      "overflow_y": null,
      "padding": null,
      "right": null,
      "top": null,
      "visibility": null,
      "width": null
     }
    },
    "2feab03cf67b42d0ab2126e0f415e15d": {
     "model_module": "@jupyter-widgets/base",
     "model_module_version": "1.2.0",
     "model_name": "LayoutModel",
     "state": {
      "_model_module": "@jupyter-widgets/base",
      "_model_module_version": "1.2.0",
      "_model_name": "LayoutModel",
      "_view_count": null,
      "_view_module": "@jupyter-widgets/base",
      "_view_module_version": "1.2.0",
      "_view_name": "LayoutView",
      "align_content": null,
      "align_items": null,
      "align_self": null,
      "border": null,
      "bottom": null,
      "display": null,
      "flex": null,
      "flex_flow": null,
      "grid_area": null,
      "grid_auto_columns": null,
      "grid_auto_flow": null,
      "grid_auto_rows": null,
      "grid_column": null,
      "grid_gap": null,
      "grid_row": null,
      "grid_template_areas": null,
      "grid_template_columns": null,
      "grid_template_rows": null,
      "height": null,
      "justify_content": null,
      "justify_items": null,
      "left": null,
      "margin": null,
      "max_height": null,
      "max_width": null,
      "min_height": null,
      "min_width": null,
      "object_fit": null,
      "object_position": null,
      "order": null,
      "overflow": null,
      "overflow_x": null,
      "overflow_y": null,
      "padding": null,
      "right": null,
      "top": null,
      "visibility": null,
      "width": null
     }
    },
    "30c8449b739c456a8bef21c545331238": {
     "model_module": "@jupyter-widgets/base",
     "model_module_version": "1.2.0",
     "model_name": "LayoutModel",
     "state": {
      "_model_module": "@jupyter-widgets/base",
      "_model_module_version": "1.2.0",
      "_model_name": "LayoutModel",
      "_view_count": null,
      "_view_module": "@jupyter-widgets/base",
      "_view_module_version": "1.2.0",
      "_view_name": "LayoutView",
      "align_content": null,
      "align_items": null,
      "align_self": null,
      "border": null,
      "bottom": null,
      "display": null,
      "flex": null,
      "flex_flow": null,
      "grid_area": null,
      "grid_auto_columns": null,
      "grid_auto_flow": null,
      "grid_auto_rows": null,
      "grid_column": null,
      "grid_gap": null,
      "grid_row": null,
      "grid_template_areas": null,
      "grid_template_columns": null,
      "grid_template_rows": null,
      "height": null,
      "justify_content": null,
      "justify_items": null,
      "left": null,
      "margin": null,
      "max_height": null,
      "max_width": null,
      "min_height": null,
      "min_width": null,
      "object_fit": null,
      "object_position": null,
      "order": null,
      "overflow": null,
      "overflow_x": null,
      "overflow_y": null,
      "padding": null,
      "right": null,
      "top": null,
      "visibility": null,
      "width": null
     }
    },
    "3a51836586734e5393a29321fd7ebd91": {
     "model_module": "@jupyter-widgets/controls",
     "model_module_version": "1.5.0",
     "model_name": "HBoxModel",
     "state": {
      "_dom_classes": [],
      "_model_module": "@jupyter-widgets/controls",
      "_model_module_version": "1.5.0",
      "_model_name": "HBoxModel",
      "_view_count": null,
      "_view_module": "@jupyter-widgets/controls",
      "_view_module_version": "1.5.0",
      "_view_name": "HBoxView",
      "box_style": "",
      "children": [
       "IPY_MODEL_637e0b6e279e44e0b849358f60f48eac",
       "IPY_MODEL_3dc4a9dc0fe84f0e9c997248910bc409",
       "IPY_MODEL_579ec3ff023243d6b9486a82cb427826"
      ],
      "layout": "IPY_MODEL_564522b6257843019c68f45ca9fc8c75"
     }
    },
    "3b0f3eed20f1469c92b0c58afc56aeec": {
     "model_module": "@jupyter-widgets/controls",
     "model_module_version": "1.5.0",
     "model_name": "ProgressStyleModel",
     "state": {
      "_model_module": "@jupyter-widgets/controls",
      "_model_module_version": "1.5.0",
      "_model_name": "ProgressStyleModel",
      "_view_count": null,
      "_view_module": "@jupyter-widgets/base",
      "_view_module_version": "1.2.0",
      "_view_name": "StyleView",
      "bar_color": null,
      "description_width": ""
     }
    },
    "3dc4a9dc0fe84f0e9c997248910bc409": {
     "model_module": "@jupyter-widgets/controls",
     "model_module_version": "1.5.0",
     "model_name": "FloatProgressModel",
     "state": {
      "_dom_classes": [],
      "_model_module": "@jupyter-widgets/controls",
      "_model_module_version": "1.5.0",
      "_model_name": "FloatProgressModel",
      "_view_count": null,
      "_view_module": "@jupyter-widgets/controls",
      "_view_module_version": "1.5.0",
      "_view_name": "ProgressView",
      "bar_style": "success",
      "description": "",
      "description_tooltip": null,
      "layout": "IPY_MODEL_191a2247c43f4658a64155d354b6cb2e",
      "max": 4,
      "min": 0,
      "orientation": "horizontal",
      "style": "IPY_MODEL_18296e5ffbd54bbbb4a673790902123f",
      "value": 4
     }
    },
    "4fc08f1fd78b4b0e909e419b0bfffea6": {
     "model_module": "@jupyter-widgets/controls",
     "model_module_version": "1.5.0",
     "model_name": "DescriptionStyleModel",
     "state": {
      "_model_module": "@jupyter-widgets/controls",
      "_model_module_version": "1.5.0",
      "_model_name": "DescriptionStyleModel",
      "_view_count": null,
      "_view_module": "@jupyter-widgets/base",
      "_view_module_version": "1.2.0",
      "_view_name": "StyleView",
      "description_width": ""
     }
    },
    "564522b6257843019c68f45ca9fc8c75": {
     "model_module": "@jupyter-widgets/base",
     "model_module_version": "1.2.0",
     "model_name": "LayoutModel",
     "state": {
      "_model_module": "@jupyter-widgets/base",
      "_model_module_version": "1.2.0",
      "_model_name": "LayoutModel",
      "_view_count": null,
      "_view_module": "@jupyter-widgets/base",
      "_view_module_version": "1.2.0",
      "_view_name": "LayoutView",
      "align_content": null,
      "align_items": null,
      "align_self": null,
      "border": null,
      "bottom": null,
      "display": null,
      "flex": null,
      "flex_flow": null,
      "grid_area": null,
      "grid_auto_columns": null,
      "grid_auto_flow": null,
      "grid_auto_rows": null,
      "grid_column": null,
      "grid_gap": null,
      "grid_row": null,
      "grid_template_areas": null,
      "grid_template_columns": null,
      "grid_template_rows": null,
      "height": null,
      "justify_content": null,
      "justify_items": null,
      "left": null,
      "margin": null,
      "max_height": null,
      "max_width": null,
      "min_height": null,
      "min_width": null,
      "object_fit": null,
      "object_position": null,
      "order": null,
      "overflow": null,
      "overflow_x": null,
      "overflow_y": null,
      "padding": null,
      "right": null,
      "top": null,
      "visibility": null,
      "width": null
     }
    },
    "579ec3ff023243d6b9486a82cb427826": {
     "model_module": "@jupyter-widgets/controls",
     "model_module_version": "1.5.0",
     "model_name": "HTMLModel",
     "state": {
      "_dom_classes": [],
      "_model_module": "@jupyter-widgets/controls",
      "_model_module_version": "1.5.0",
      "_model_name": "HTMLModel",
      "_view_count": null,
      "_view_module": "@jupyter-widgets/controls",
      "_view_module_version": "1.5.0",
      "_view_name": "HTMLView",
      "description": "",
      "description_tooltip": null,
      "layout": "IPY_MODEL_faeb53ee9ac8414aa8e26efed269c318",
      "placeholder": "​",
      "style": "IPY_MODEL_76beca3010ce4232ac17f252a18aacb5",
      "value": " 4/4 [00:29&lt;00:00,  6.65s/it]"
     }
    },
    "61db03db39fd495ab70987fdb349dd00": {
     "model_module": "@jupyter-widgets/controls",
     "model_module_version": "1.5.0",
     "model_name": "HBoxModel",
     "state": {
      "_dom_classes": [],
      "_model_module": "@jupyter-widgets/controls",
      "_model_module_version": "1.5.0",
      "_model_name": "HBoxModel",
      "_view_count": null,
      "_view_module": "@jupyter-widgets/controls",
      "_view_module_version": "1.5.0",
      "_view_name": "HBoxView",
      "box_style": "",
      "children": [
       "IPY_MODEL_95a98a6e82c54738a2e22b6bd8b91711",
       "IPY_MODEL_06105e07a44642bdb4f1b8a6d69bb8c2",
       "IPY_MODEL_ac47af1cf4b848acacefc6026cce2738"
      ],
      "layout": "IPY_MODEL_24900ffc1ede4d999591112836a27c27"
     }
    },
    "637e0b6e279e44e0b849358f60f48eac": {
     "model_module": "@jupyter-widgets/controls",
     "model_module_version": "1.5.0",
     "model_name": "HTMLModel",
     "state": {
      "_dom_classes": [],
      "_model_module": "@jupyter-widgets/controls",
      "_model_module_version": "1.5.0",
      "_model_name": "HTMLModel",
      "_view_count": null,
      "_view_module": "@jupyter-widgets/controls",
      "_view_module_version": "1.5.0",
      "_view_name": "HTMLView",
      "description": "",
      "description_tooltip": null,
      "layout": "IPY_MODEL_2feab03cf67b42d0ab2126e0f415e15d",
      "placeholder": "​",
      "style": "IPY_MODEL_16b769bbd69f443c88adb914bda9e8bf",
      "value": "100%"
     }
    },
    "76beca3010ce4232ac17f252a18aacb5": {
     "model_module": "@jupyter-widgets/controls",
     "model_module_version": "1.5.0",
     "model_name": "DescriptionStyleModel",
     "state": {
      "_model_module": "@jupyter-widgets/controls",
      "_model_module_version": "1.5.0",
      "_model_name": "DescriptionStyleModel",
      "_view_count": null,
      "_view_module": "@jupyter-widgets/base",
      "_view_module_version": "1.2.0",
      "_view_name": "StyleView",
      "description_width": ""
     }
    },
    "779a261dcc8242ebb07709d672c27090": {
     "model_module": "@jupyter-widgets/controls",
     "model_module_version": "1.5.0",
     "model_name": "FloatProgressModel",
     "state": {
      "_dom_classes": [],
      "_model_module": "@jupyter-widgets/controls",
      "_model_module_version": "1.5.0",
      "_model_name": "FloatProgressModel",
      "_view_count": null,
      "_view_module": "@jupyter-widgets/controls",
      "_view_module_version": "1.5.0",
      "_view_name": "ProgressView",
      "bar_style": "success",
      "description": "",
      "description_tooltip": null,
      "layout": "IPY_MODEL_30c8449b739c456a8bef21c545331238",
      "max": 4,
      "min": 0,
      "orientation": "horizontal",
      "style": "IPY_MODEL_fa18d24fdf72453295f149a263cf6e97",
      "value": 4
     }
    },
    "95a98a6e82c54738a2e22b6bd8b91711": {
     "model_module": "@jupyter-widgets/controls",
     "model_module_version": "1.5.0",
     "model_name": "HTMLModel",
     "state": {
      "_dom_classes": [],
      "_model_module": "@jupyter-widgets/controls",
      "_model_module_version": "1.5.0",
      "_model_name": "HTMLModel",
      "_view_count": null,
      "_view_module": "@jupyter-widgets/controls",
      "_view_module_version": "1.5.0",
      "_view_name": "HTMLView",
      "description": "",
      "description_tooltip": null,
      "layout": "IPY_MODEL_a24e56c257454660a92ba7f24a331da8",
      "placeholder": "​",
      "style": "IPY_MODEL_1e8524ee535f42dd8a5667c6e462ad96",
      "value": "100%"
     }
    },
    "a24e56c257454660a92ba7f24a331da8": {
     "model_module": "@jupyter-widgets/base",
     "model_module_version": "1.2.0",
     "model_name": "LayoutModel",
     "state": {
      "_model_module": "@jupyter-widgets/base",
      "_model_module_version": "1.2.0",
      "_model_name": "LayoutModel",
      "_view_count": null,
      "_view_module": "@jupyter-widgets/base",
      "_view_module_version": "1.2.0",
      "_view_name": "LayoutView",
      "align_content": null,
      "align_items": null,
      "align_self": null,
      "border": null,
      "bottom": null,
      "display": null,
      "flex": null,
      "flex_flow": null,
      "grid_area": null,
      "grid_auto_columns": null,
      "grid_auto_flow": null,
      "grid_auto_rows": null,
      "grid_column": null,
      "grid_gap": null,
      "grid_row": null,
      "grid_template_areas": null,
      "grid_template_columns": null,
      "grid_template_rows": null,
      "height": null,
      "justify_content": null,
      "justify_items": null,
      "left": null,
      "margin": null,
      "max_height": null,
      "max_width": null,
      "min_height": null,
      "min_width": null,
      "object_fit": null,
      "object_position": null,
      "order": null,
      "overflow": null,
      "overflow_x": null,
      "overflow_y": null,
      "padding": null,
      "right": null,
      "top": null,
      "visibility": null,
      "width": null
     }
    },
    "ac47af1cf4b848acacefc6026cce2738": {
     "model_module": "@jupyter-widgets/controls",
     "model_module_version": "1.5.0",
     "model_name": "HTMLModel",
     "state": {
      "_dom_classes": [],
      "_model_module": "@jupyter-widgets/controls",
      "_model_module_version": "1.5.0",
      "_model_name": "HTMLModel",
      "_view_count": null,
      "_view_module": "@jupyter-widgets/controls",
      "_view_module_version": "1.5.0",
      "_view_name": "HTMLView",
      "description": "",
      "description_tooltip": null,
      "layout": "IPY_MODEL_0e990e62e57e4960a413e2fcadb1b50e",
      "placeholder": "​",
      "style": "IPY_MODEL_e3ca700115074e24a79046b3d0bb1b15",
      "value": " 4/4 [00:27&lt;00:00,  6.97s/it]"
     }
    },
    "b35b5877c4f44779969402d006b3ce4f": {
     "model_module": "@jupyter-widgets/base",
     "model_module_version": "1.2.0",
     "model_name": "LayoutModel",
     "state": {
      "_model_module": "@jupyter-widgets/base",
      "_model_module_version": "1.2.0",
      "_model_name": "LayoutModel",
      "_view_count": null,
      "_view_module": "@jupyter-widgets/base",
      "_view_module_version": "1.2.0",
      "_view_name": "LayoutView",
      "align_content": null,
      "align_items": null,
      "align_self": null,
      "border": null,
      "bottom": null,
      "display": null,
      "flex": null,
      "flex_flow": null,
      "grid_area": null,
      "grid_auto_columns": null,
      "grid_auto_flow": null,
      "grid_auto_rows": null,
      "grid_column": null,
      "grid_gap": null,
      "grid_row": null,
      "grid_template_areas": null,
      "grid_template_columns": null,
      "grid_template_rows": null,
      "height": null,
      "justify_content": null,
      "justify_items": null,
      "left": null,
      "margin": null,
      "max_height": null,
      "max_width": null,
      "min_height": null,
      "min_width": null,
      "object_fit": null,
      "object_position": null,
      "order": null,
      "overflow": null,
      "overflow_x": null,
      "overflow_y": null,
      "padding": null,
      "right": null,
      "top": null,
      "visibility": null,
      "width": null
     }
    },
    "b40b50d8362b4dd19f512ca39aee3067": {
     "model_module": "@jupyter-widgets/base",
     "model_module_version": "1.2.0",
     "model_name": "LayoutModel",
     "state": {
      "_model_module": "@jupyter-widgets/base",
      "_model_module_version": "1.2.0",
      "_model_name": "LayoutModel",
      "_view_count": null,
      "_view_module": "@jupyter-widgets/base",
      "_view_module_version": "1.2.0",
      "_view_name": "LayoutView",
      "align_content": null,
      "align_items": null,
      "align_self": null,
      "border": null,
      "bottom": null,
      "display": null,
      "flex": null,
      "flex_flow": null,
      "grid_area": null,
      "grid_auto_columns": null,
      "grid_auto_flow": null,
      "grid_auto_rows": null,
      "grid_column": null,
      "grid_gap": null,
      "grid_row": null,
      "grid_template_areas": null,
      "grid_template_columns": null,
      "grid_template_rows": null,
      "height": null,
      "justify_content": null,
      "justify_items": null,
      "left": null,
      "margin": null,
      "max_height": null,
      "max_width": null,
      "min_height": null,
      "min_width": null,
      "object_fit": null,
      "object_position": null,
      "order": null,
      "overflow": null,
      "overflow_x": null,
      "overflow_y": null,
      "padding": null,
      "right": null,
      "top": null,
      "visibility": null,
      "width": null
     }
    },
    "b62c1a40f220461f9793a7c251b9af11": {
     "model_module": "@jupyter-widgets/controls",
     "model_module_version": "1.5.0",
     "model_name": "HBoxModel",
     "state": {
      "_dom_classes": [],
      "_model_module": "@jupyter-widgets/controls",
      "_model_module_version": "1.5.0",
      "_model_name": "HBoxModel",
      "_view_count": null,
      "_view_module": "@jupyter-widgets/controls",
      "_view_module_version": "1.5.0",
      "_view_name": "HBoxView",
      "box_style": "",
      "children": [
       "IPY_MODEL_d436db0847cc40ec8bde940d076a8556",
       "IPY_MODEL_779a261dcc8242ebb07709d672c27090",
       "IPY_MODEL_c44775d2a8d84087bae430316af2cb66"
      ],
      "layout": "IPY_MODEL_f8507256fde045599d91363f6e35ac4e"
     }
    },
    "c44775d2a8d84087bae430316af2cb66": {
     "model_module": "@jupyter-widgets/controls",
     "model_module_version": "1.5.0",
     "model_name": "HTMLModel",
     "state": {
      "_dom_classes": [],
      "_model_module": "@jupyter-widgets/controls",
      "_model_module_version": "1.5.0",
      "_model_name": "HTMLModel",
      "_view_count": null,
      "_view_module": "@jupyter-widgets/controls",
      "_view_module_version": "1.5.0",
      "_view_name": "HTMLView",
      "description": "",
      "description_tooltip": null,
      "layout": "IPY_MODEL_b40b50d8362b4dd19f512ca39aee3067",
      "placeholder": "​",
      "style": "IPY_MODEL_f22bfca3cdcb4533800a8f71c713452c",
      "value": " 4/4 [00:24&lt;00:00,  6.24s/it]"
     }
    },
    "d436db0847cc40ec8bde940d076a8556": {
     "model_module": "@jupyter-widgets/controls",
     "model_module_version": "1.5.0",
     "model_name": "HTMLModel",
     "state": {
      "_dom_classes": [],
      "_model_module": "@jupyter-widgets/controls",
      "_model_module_version": "1.5.0",
      "_model_name": "HTMLModel",
      "_view_count": null,
      "_view_module": "@jupyter-widgets/controls",
      "_view_module_version": "1.5.0",
      "_view_name": "HTMLView",
      "description": "",
      "description_tooltip": null,
      "layout": "IPY_MODEL_b35b5877c4f44779969402d006b3ce4f",
      "placeholder": "​",
      "style": "IPY_MODEL_4fc08f1fd78b4b0e909e419b0bfffea6",
      "value": "100%"
     }
    },
    "e3ca700115074e24a79046b3d0bb1b15": {
     "model_module": "@jupyter-widgets/controls",
     "model_module_version": "1.5.0",
     "model_name": "DescriptionStyleModel",
     "state": {
      "_model_module": "@jupyter-widgets/controls",
      "_model_module_version": "1.5.0",
      "_model_name": "DescriptionStyleModel",
      "_view_count": null,
      "_view_module": "@jupyter-widgets/base",
      "_view_module_version": "1.2.0",
      "_view_name": "StyleView",
      "description_width": ""
     }
    },
    "f22bfca3cdcb4533800a8f71c713452c": {
     "model_module": "@jupyter-widgets/controls",
     "model_module_version": "1.5.0",
     "model_name": "DescriptionStyleModel",
     "state": {
      "_model_module": "@jupyter-widgets/controls",
      "_model_module_version": "1.5.0",
      "_model_name": "DescriptionStyleModel",
      "_view_count": null,
      "_view_module": "@jupyter-widgets/base",
      "_view_module_version": "1.2.0",
      "_view_name": "StyleView",
      "description_width": ""
     }
    },
    "f8507256fde045599d91363f6e35ac4e": {
     "model_module": "@jupyter-widgets/base",
     "model_module_version": "1.2.0",
     "model_name": "LayoutModel",
     "state": {
      "_model_module": "@jupyter-widgets/base",
      "_model_module_version": "1.2.0",
      "_model_name": "LayoutModel",
      "_view_count": null,
      "_view_module": "@jupyter-widgets/base",
      "_view_module_version": "1.2.0",
      "_view_name": "LayoutView",
      "align_content": null,
      "align_items": null,
      "align_self": null,
      "border": null,
      "bottom": null,
      "display": null,
      "flex": null,
      "flex_flow": null,
      "grid_area": null,
      "grid_auto_columns": null,
      "grid_auto_flow": null,
      "grid_auto_rows": null,
      "grid_column": null,
      "grid_gap": null,
      "grid_row": null,
      "grid_template_areas": null,
      "grid_template_columns": null,
      "grid_template_rows": null,
      "height": null,
      "justify_content": null,
      "justify_items": null,
      "left": null,
      "margin": null,
      "max_height": null,
      "max_width": null,
      "min_height": null,
      "min_width": null,
      "object_fit": null,
      "object_position": null,
      "order": null,
      "overflow": null,
      "overflow_x": null,
      "overflow_y": null,
      "padding": null,
      "right": null,
      "top": null,
      "visibility": null,
      "width": null
     }
    },
    "fa18d24fdf72453295f149a263cf6e97": {
     "model_module": "@jupyter-widgets/controls",
     "model_module_version": "1.5.0",
     "model_name": "ProgressStyleModel",
     "state": {
      "_model_module": "@jupyter-widgets/controls",
      "_model_module_version": "1.5.0",
      "_model_name": "ProgressStyleModel",
      "_view_count": null,
      "_view_module": "@jupyter-widgets/base",
      "_view_module_version": "1.2.0",
      "_view_name": "StyleView",
      "bar_color": null,
      "description_width": ""
     }
    },
    "faeb53ee9ac8414aa8e26efed269c318": {
     "model_module": "@jupyter-widgets/base",
     "model_module_version": "1.2.0",
     "model_name": "LayoutModel",
     "state": {
      "_model_module": "@jupyter-widgets/base",
      "_model_module_version": "1.2.0",
      "_model_name": "LayoutModel",
      "_view_count": null,
      "_view_module": "@jupyter-widgets/base",
      "_view_module_version": "1.2.0",
      "_view_name": "LayoutView",
      "align_content": null,
      "align_items": null,
      "align_self": null,
      "border": null,
      "bottom": null,
      "display": null,
      "flex": null,
      "flex_flow": null,
      "grid_area": null,
      "grid_auto_columns": null,
      "grid_auto_flow": null,
      "grid_auto_rows": null,
      "grid_column": null,
      "grid_gap": null,
      "grid_row": null,
      "grid_template_areas": null,
      "grid_template_columns": null,
      "grid_template_rows": null,
      "height": null,
      "justify_content": null,
      "justify_items": null,
      "left": null,
      "margin": null,
      "max_height": null,
      "max_width": null,
      "min_height": null,
      "min_width": null,
      "object_fit": null,
      "object_position": null,
      "order": null,
      "overflow": null,
      "overflow_x": null,
      "overflow_y": null,
      "padding": null,
      "right": null,
      "top": null,
      "visibility": null,
      "width": null
     }
    }
   }
  }
 },
 "nbformat": 4,
 "nbformat_minor": 4
}
